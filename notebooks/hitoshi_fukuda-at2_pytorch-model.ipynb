{
 "cells": [
  {
   "cell_type": "code",
   "execution_count": null,
   "id": "725e6d25-c9b4-4e66-b1d0-48f43cfe2f27",
   "metadata": {},
   "outputs": [],
   "source": [
    "\"\"\"\n",
    "git remote rm origin\n",
    "\n",
    "# Initialise the repo\n",
    "git init\n",
    "\n",
    "# Login into Github with your account (https://github.com/) and create a public repo with the name `adv_dsi_2022-at2.git`\n",
    "\n",
    "# Link repo with Github\n",
    "git remote add origin git@github.com:hitoshi0531/dsi-at2.git\n",
    "git remote add origin git@github.com:hitoshi0531/dsi-at2-api.git\n",
    "\n",
    "# Add you changes to git staging area and commit them\n",
    "git add .\n",
    "git commit -m \"init\"\n",
    "\n",
    "# Push your master branch to origin\n",
    "git push git@github.com:hitoshi0531/dsi-at2.git\n",
    "git push git@github.com:hitoshi0531/dsi-at2-api.git\n",
    "\n",
    "# Preventing push to master branch\n",
    "git config branch.master.pushRemote no_push\n",
    "\n",
    "# Create a new git branch called pytorch_mnist\n",
    "git checkout -b pytorch_multi_class\n",
    "\"\"\""
   ]
  },
  {
   "cell_type": "markdown",
   "id": "4045a0b1-236e-46a6-8933-4bdaf7d5431d",
   "metadata": {},
   "source": [
    "## 1. Data Exploration"
   ]
  },
  {
   "cell_type": "code",
   "execution_count": 1,
   "id": "a4ca6399-3f6f-4b99-ade6-8eb8df64abec",
   "metadata": {},
   "outputs": [],
   "source": [
    "#import pnadas and numpy\n",
    "import pandas as pd\n",
    "import numpy as np"
   ]
  },
  {
   "cell_type": "code",
   "execution_count": 2,
   "id": "dea72bd8-f112-44f7-ba38-4b9b70ec34a1",
   "metadata": {},
   "outputs": [],
   "source": [
    "#Load the dataset into dataframe\n",
    "df = pd.read_csv('../data/raw/beer_reviews.csv')"
   ]
  },
  {
   "cell_type": "code",
   "execution_count": 3,
   "id": "06027e5d-64a8-4705-8ddb-9637cccee79f",
   "metadata": {},
   "outputs": [
    {
     "data": {
      "text/html": [
       "<div>\n",
       "<style scoped>\n",
       "    .dataframe tbody tr th:only-of-type {\n",
       "        vertical-align: middle;\n",
       "    }\n",
       "\n",
       "    .dataframe tbody tr th {\n",
       "        vertical-align: top;\n",
       "    }\n",
       "\n",
       "    .dataframe thead th {\n",
       "        text-align: right;\n",
       "    }\n",
       "</style>\n",
       "<table border=\"1\" class=\"dataframe\">\n",
       "  <thead>\n",
       "    <tr style=\"text-align: right;\">\n",
       "      <th></th>\n",
       "      <th>brewery_id</th>\n",
       "      <th>brewery_name</th>\n",
       "      <th>review_time</th>\n",
       "      <th>review_overall</th>\n",
       "      <th>review_aroma</th>\n",
       "      <th>review_appearance</th>\n",
       "      <th>review_profilename</th>\n",
       "      <th>beer_style</th>\n",
       "      <th>review_palate</th>\n",
       "      <th>review_taste</th>\n",
       "      <th>beer_name</th>\n",
       "      <th>beer_abv</th>\n",
       "      <th>beer_beerid</th>\n",
       "    </tr>\n",
       "  </thead>\n",
       "  <tbody>\n",
       "    <tr>\n",
       "      <th>0</th>\n",
       "      <td>10325</td>\n",
       "      <td>Vecchio Birraio</td>\n",
       "      <td>1234817823</td>\n",
       "      <td>1.5</td>\n",
       "      <td>2.0</td>\n",
       "      <td>2.5</td>\n",
       "      <td>stcules</td>\n",
       "      <td>Hefeweizen</td>\n",
       "      <td>1.5</td>\n",
       "      <td>1.5</td>\n",
       "      <td>Sausa Weizen</td>\n",
       "      <td>5.0</td>\n",
       "      <td>47986</td>\n",
       "    </tr>\n",
       "    <tr>\n",
       "      <th>1</th>\n",
       "      <td>10325</td>\n",
       "      <td>Vecchio Birraio</td>\n",
       "      <td>1235915097</td>\n",
       "      <td>3.0</td>\n",
       "      <td>2.5</td>\n",
       "      <td>3.0</td>\n",
       "      <td>stcules</td>\n",
       "      <td>English Strong Ale</td>\n",
       "      <td>3.0</td>\n",
       "      <td>3.0</td>\n",
       "      <td>Red Moon</td>\n",
       "      <td>6.2</td>\n",
       "      <td>48213</td>\n",
       "    </tr>\n",
       "    <tr>\n",
       "      <th>2</th>\n",
       "      <td>10325</td>\n",
       "      <td>Vecchio Birraio</td>\n",
       "      <td>1235916604</td>\n",
       "      <td>3.0</td>\n",
       "      <td>2.5</td>\n",
       "      <td>3.0</td>\n",
       "      <td>stcules</td>\n",
       "      <td>Foreign / Export Stout</td>\n",
       "      <td>3.0</td>\n",
       "      <td>3.0</td>\n",
       "      <td>Black Horse Black Beer</td>\n",
       "      <td>6.5</td>\n",
       "      <td>48215</td>\n",
       "    </tr>\n",
       "    <tr>\n",
       "      <th>3</th>\n",
       "      <td>10325</td>\n",
       "      <td>Vecchio Birraio</td>\n",
       "      <td>1234725145</td>\n",
       "      <td>3.0</td>\n",
       "      <td>3.0</td>\n",
       "      <td>3.5</td>\n",
       "      <td>stcules</td>\n",
       "      <td>German Pilsener</td>\n",
       "      <td>2.5</td>\n",
       "      <td>3.0</td>\n",
       "      <td>Sausa Pils</td>\n",
       "      <td>5.0</td>\n",
       "      <td>47969</td>\n",
       "    </tr>\n",
       "    <tr>\n",
       "      <th>4</th>\n",
       "      <td>1075</td>\n",
       "      <td>Caldera Brewing Company</td>\n",
       "      <td>1293735206</td>\n",
       "      <td>4.0</td>\n",
       "      <td>4.5</td>\n",
       "      <td>4.0</td>\n",
       "      <td>johnmichaelsen</td>\n",
       "      <td>American Double / Imperial IPA</td>\n",
       "      <td>4.0</td>\n",
       "      <td>4.5</td>\n",
       "      <td>Cauldron DIPA</td>\n",
       "      <td>7.7</td>\n",
       "      <td>64883</td>\n",
       "    </tr>\n",
       "  </tbody>\n",
       "</table>\n",
       "</div>"
      ],
      "text/plain": [
       "   brewery_id             brewery_name  review_time  review_overall  \\\n",
       "0       10325          Vecchio Birraio   1234817823             1.5   \n",
       "1       10325          Vecchio Birraio   1235915097             3.0   \n",
       "2       10325          Vecchio Birraio   1235916604             3.0   \n",
       "3       10325          Vecchio Birraio   1234725145             3.0   \n",
       "4        1075  Caldera Brewing Company   1293735206             4.0   \n",
       "\n",
       "   review_aroma  review_appearance review_profilename  \\\n",
       "0           2.0                2.5            stcules   \n",
       "1           2.5                3.0            stcules   \n",
       "2           2.5                3.0            stcules   \n",
       "3           3.0                3.5            stcules   \n",
       "4           4.5                4.0     johnmichaelsen   \n",
       "\n",
       "                       beer_style  review_palate  review_taste  \\\n",
       "0                      Hefeweizen            1.5           1.5   \n",
       "1              English Strong Ale            3.0           3.0   \n",
       "2          Foreign / Export Stout            3.0           3.0   \n",
       "3                 German Pilsener            2.5           3.0   \n",
       "4  American Double / Imperial IPA            4.0           4.5   \n",
       "\n",
       "                beer_name  beer_abv  beer_beerid  \n",
       "0            Sausa Weizen       5.0        47986  \n",
       "1                Red Moon       6.2        48213  \n",
       "2  Black Horse Black Beer       6.5        48215  \n",
       "3              Sausa Pils       5.0        47969  \n",
       "4           Cauldron DIPA       7.7        64883  "
      ]
     },
     "execution_count": 3,
     "metadata": {},
     "output_type": "execute_result"
    }
   ],
   "source": [
    "#Get the header of the dataframe\n",
    "df.head()"
   ]
  },
  {
   "cell_type": "code",
   "execution_count": 4,
   "id": "cff2ab6a-a4fa-400c-a1ea-3a26f2f675bd",
   "metadata": {},
   "outputs": [
    {
     "data": {
      "text/plain": [
       "(1586614, 13)"
      ]
     },
     "execution_count": 4,
     "metadata": {},
     "output_type": "execute_result"
    }
   ],
   "source": [
    "#Get the shape of the dataframe\n",
    "df.shape"
   ]
  },
  {
   "cell_type": "code",
   "execution_count": 5,
   "id": "4cabe982-7a67-4075-bc4b-77840a2a0698",
   "metadata": {},
   "outputs": [
    {
     "name": "stdout",
     "output_type": "stream",
     "text": [
      "<class 'pandas.core.frame.DataFrame'>\n",
      "RangeIndex: 1586614 entries, 0 to 1586613\n",
      "Data columns (total 13 columns):\n",
      " #   Column              Non-Null Count    Dtype  \n",
      "---  ------              --------------    -----  \n",
      " 0   brewery_id          1586614 non-null  int64  \n",
      " 1   brewery_name        1586599 non-null  object \n",
      " 2   review_time         1586614 non-null  int64  \n",
      " 3   review_overall      1586614 non-null  float64\n",
      " 4   review_aroma        1586614 non-null  float64\n",
      " 5   review_appearance   1586614 non-null  float64\n",
      " 6   review_profilename  1586266 non-null  object \n",
      " 7   beer_style          1586614 non-null  object \n",
      " 8   review_palate       1586614 non-null  float64\n",
      " 9   review_taste        1586614 non-null  float64\n",
      " 10  beer_name           1586614 non-null  object \n",
      " 11  beer_abv            1518829 non-null  float64\n",
      " 12  beer_beerid         1586614 non-null  int64  \n",
      "dtypes: float64(6), int64(3), object(4)\n",
      "memory usage: 157.4+ MB\n"
     ]
    }
   ],
   "source": [
    "#Get the information of the dataframe\n",
    "df.info()"
   ]
  },
  {
   "cell_type": "markdown",
   "id": "69a7db7c-e5c9-489b-bb8b-67e360e53b56",
   "metadata": {},
   "source": [
    "**i.e. There are 4 object columns, so they have to be removed or converted into numerical columns.**"
   ]
  },
  {
   "cell_type": "code",
   "execution_count": 6,
   "id": "2d3f9063-bf36-4108-9915-61e72137bbc3",
   "metadata": {},
   "outputs": [
    {
     "data": {
      "text/html": [
       "<div>\n",
       "<style scoped>\n",
       "    .dataframe tbody tr th:only-of-type {\n",
       "        vertical-align: middle;\n",
       "    }\n",
       "\n",
       "    .dataframe tbody tr th {\n",
       "        vertical-align: top;\n",
       "    }\n",
       "\n",
       "    .dataframe thead th {\n",
       "        text-align: right;\n",
       "    }\n",
       "</style>\n",
       "<table border=\"1\" class=\"dataframe\">\n",
       "  <thead>\n",
       "    <tr style=\"text-align: right;\">\n",
       "      <th></th>\n",
       "      <th>brewery_id</th>\n",
       "      <th>review_time</th>\n",
       "      <th>review_overall</th>\n",
       "      <th>review_aroma</th>\n",
       "      <th>review_appearance</th>\n",
       "      <th>review_palate</th>\n",
       "      <th>review_taste</th>\n",
       "      <th>beer_abv</th>\n",
       "      <th>beer_beerid</th>\n",
       "    </tr>\n",
       "  </thead>\n",
       "  <tbody>\n",
       "    <tr>\n",
       "      <th>count</th>\n",
       "      <td>1.586614e+06</td>\n",
       "      <td>1.586614e+06</td>\n",
       "      <td>1.586614e+06</td>\n",
       "      <td>1.586614e+06</td>\n",
       "      <td>1.586614e+06</td>\n",
       "      <td>1.586614e+06</td>\n",
       "      <td>1.586614e+06</td>\n",
       "      <td>1.518829e+06</td>\n",
       "      <td>1.586614e+06</td>\n",
       "    </tr>\n",
       "    <tr>\n",
       "      <th>mean</th>\n",
       "      <td>3.130099e+03</td>\n",
       "      <td>1.224089e+09</td>\n",
       "      <td>3.815581e+00</td>\n",
       "      <td>3.735636e+00</td>\n",
       "      <td>3.841642e+00</td>\n",
       "      <td>3.743701e+00</td>\n",
       "      <td>3.792860e+00</td>\n",
       "      <td>7.042387e+00</td>\n",
       "      <td>2.171279e+04</td>\n",
       "    </tr>\n",
       "    <tr>\n",
       "      <th>std</th>\n",
       "      <td>5.578104e+03</td>\n",
       "      <td>7.654427e+07</td>\n",
       "      <td>7.206219e-01</td>\n",
       "      <td>6.976167e-01</td>\n",
       "      <td>6.160928e-01</td>\n",
       "      <td>6.822184e-01</td>\n",
       "      <td>7.319696e-01</td>\n",
       "      <td>2.322526e+00</td>\n",
       "      <td>2.181834e+04</td>\n",
       "    </tr>\n",
       "    <tr>\n",
       "      <th>min</th>\n",
       "      <td>1.000000e+00</td>\n",
       "      <td>8.406720e+08</td>\n",
       "      <td>0.000000e+00</td>\n",
       "      <td>1.000000e+00</td>\n",
       "      <td>0.000000e+00</td>\n",
       "      <td>1.000000e+00</td>\n",
       "      <td>1.000000e+00</td>\n",
       "      <td>1.000000e-02</td>\n",
       "      <td>3.000000e+00</td>\n",
       "    </tr>\n",
       "    <tr>\n",
       "      <th>25%</th>\n",
       "      <td>1.430000e+02</td>\n",
       "      <td>1.173224e+09</td>\n",
       "      <td>3.500000e+00</td>\n",
       "      <td>3.500000e+00</td>\n",
       "      <td>3.500000e+00</td>\n",
       "      <td>3.500000e+00</td>\n",
       "      <td>3.500000e+00</td>\n",
       "      <td>5.200000e+00</td>\n",
       "      <td>1.717000e+03</td>\n",
       "    </tr>\n",
       "    <tr>\n",
       "      <th>50%</th>\n",
       "      <td>4.290000e+02</td>\n",
       "      <td>1.239203e+09</td>\n",
       "      <td>4.000000e+00</td>\n",
       "      <td>4.000000e+00</td>\n",
       "      <td>4.000000e+00</td>\n",
       "      <td>4.000000e+00</td>\n",
       "      <td>4.000000e+00</td>\n",
       "      <td>6.500000e+00</td>\n",
       "      <td>1.390600e+04</td>\n",
       "    </tr>\n",
       "    <tr>\n",
       "      <th>75%</th>\n",
       "      <td>2.372000e+03</td>\n",
       "      <td>1.288568e+09</td>\n",
       "      <td>4.500000e+00</td>\n",
       "      <td>4.000000e+00</td>\n",
       "      <td>4.000000e+00</td>\n",
       "      <td>4.000000e+00</td>\n",
       "      <td>4.500000e+00</td>\n",
       "      <td>8.500000e+00</td>\n",
       "      <td>3.944100e+04</td>\n",
       "    </tr>\n",
       "    <tr>\n",
       "      <th>max</th>\n",
       "      <td>2.800300e+04</td>\n",
       "      <td>1.326285e+09</td>\n",
       "      <td>5.000000e+00</td>\n",
       "      <td>5.000000e+00</td>\n",
       "      <td>5.000000e+00</td>\n",
       "      <td>5.000000e+00</td>\n",
       "      <td>5.000000e+00</td>\n",
       "      <td>5.770000e+01</td>\n",
       "      <td>7.731700e+04</td>\n",
       "    </tr>\n",
       "  </tbody>\n",
       "</table>\n",
       "</div>"
      ],
      "text/plain": [
       "         brewery_id   review_time  review_overall  review_aroma  \\\n",
       "count  1.586614e+06  1.586614e+06    1.586614e+06  1.586614e+06   \n",
       "mean   3.130099e+03  1.224089e+09    3.815581e+00  3.735636e+00   \n",
       "std    5.578104e+03  7.654427e+07    7.206219e-01  6.976167e-01   \n",
       "min    1.000000e+00  8.406720e+08    0.000000e+00  1.000000e+00   \n",
       "25%    1.430000e+02  1.173224e+09    3.500000e+00  3.500000e+00   \n",
       "50%    4.290000e+02  1.239203e+09    4.000000e+00  4.000000e+00   \n",
       "75%    2.372000e+03  1.288568e+09    4.500000e+00  4.000000e+00   \n",
       "max    2.800300e+04  1.326285e+09    5.000000e+00  5.000000e+00   \n",
       "\n",
       "       review_appearance  review_palate  review_taste      beer_abv  \\\n",
       "count       1.586614e+06   1.586614e+06  1.586614e+06  1.518829e+06   \n",
       "mean        3.841642e+00   3.743701e+00  3.792860e+00  7.042387e+00   \n",
       "std         6.160928e-01   6.822184e-01  7.319696e-01  2.322526e+00   \n",
       "min         0.000000e+00   1.000000e+00  1.000000e+00  1.000000e-02   \n",
       "25%         3.500000e+00   3.500000e+00  3.500000e+00  5.200000e+00   \n",
       "50%         4.000000e+00   4.000000e+00  4.000000e+00  6.500000e+00   \n",
       "75%         4.000000e+00   4.000000e+00  4.500000e+00  8.500000e+00   \n",
       "max         5.000000e+00   5.000000e+00  5.000000e+00  5.770000e+01   \n",
       "\n",
       "        beer_beerid  \n",
       "count  1.586614e+06  \n",
       "mean   2.171279e+04  \n",
       "std    2.181834e+04  \n",
       "min    3.000000e+00  \n",
       "25%    1.717000e+03  \n",
       "50%    1.390600e+04  \n",
       "75%    3.944100e+04  \n",
       "max    7.731700e+04  "
      ]
     },
     "execution_count": 6,
     "metadata": {},
     "output_type": "execute_result"
    }
   ],
   "source": [
    "#Get the descriptive stats of the dataframe\n",
    "df.describe()"
   ]
  },
  {
   "cell_type": "code",
   "execution_count": 7,
   "id": "7fdf3cc6-5032-4553-8d53-f72c60b2d2d7",
   "metadata": {},
   "outputs": [
    {
     "data": {
      "text/plain": [
       "array([[<AxesSubplot: title={'center': 'brewery_id'}>,\n",
       "        <AxesSubplot: title={'center': 'review_time'}>,\n",
       "        <AxesSubplot: title={'center': 'review_overall'}>],\n",
       "       [<AxesSubplot: title={'center': 'review_aroma'}>,\n",
       "        <AxesSubplot: title={'center': 'review_appearance'}>,\n",
       "        <AxesSubplot: title={'center': 'review_palate'}>],\n",
       "       [<AxesSubplot: title={'center': 'review_taste'}>,\n",
       "        <AxesSubplot: title={'center': 'beer_abv'}>,\n",
       "        <AxesSubplot: title={'center': 'beer_beerid'}>]], dtype=object)"
      ]
     },
     "execution_count": 7,
     "metadata": {},
     "output_type": "execute_result"
    },
    {
     "data": {
      "image/png": "[encoded data removed]",
      "text/plain": [
       "<Figure size 2000x2000 with 9 Axes>"
      ]
     },
     "metadata": {},
     "output_type": "display_data"
    }
   ],
   "source": [
    "#Check the distribution of the value of each quantitative column\n",
    "df.hist(figsize = (20,20))"
   ]
  },
  {
   "cell_type": "code",
   "execution_count": 8,
   "id": "b3b21c1a-40f6-4b56-8375-4733ed019d32",
   "metadata": {},
   "outputs": [],
   "source": [
    "#pd.plotting.scatter_matrix(df, figsize = (20,20))"
   ]
  },
  {
   "cell_type": "code",
   "execution_count": 9,
   "id": "5ac31a39-ef55-420a-8b4d-93f4151eae34",
   "metadata": {},
   "outputs": [
    {
     "name": "stdout",
     "output_type": "stream",
     "text": [
      "Requirement already satisfied: ipympl in /opt/conda/lib/python3.8/site-packages (0.9.2)\n",
      "Requirement already satisfied: ipython-genutils in /opt/conda/lib/python3.8/site-packages (from ipympl) (0.2.0)\n",
      "Requirement already satisfied: ipython<9 in /opt/conda/lib/python3.8/site-packages (from ipympl) (8.5.0)\n",
      "Requirement already satisfied: traitlets<6 in /opt/conda/lib/python3.8/site-packages (from ipympl) (5.4.0)\n",
      "Requirement already satisfied: matplotlib<4,>=3.4.0 in /opt/conda/lib/python3.8/site-packages (from ipympl) (3.6.0)\n",
      "Requirement already satisfied: pillow in /opt/conda/lib/python3.8/site-packages (from ipympl) (9.2.0)\n",
      "Requirement already satisfied: ipywidgets<9,>=7.6.0 in /opt/conda/lib/python3.8/site-packages (from ipympl) (8.0.2)\n",
      "Requirement already satisfied: numpy in /opt/conda/lib/python3.8/site-packages (from ipympl) (1.23.3)\n",
      "Requirement already satisfied: pexpect>4.3 in /opt/conda/lib/python3.8/site-packages (from ipython<9->ipympl) (4.8.0)\n",
      "Requirement already satisfied: backcall in /opt/conda/lib/python3.8/site-packages (from ipython<9->ipympl) (0.2.0)\n",
      "Requirement already satisfied: stack-data in /opt/conda/lib/python3.8/site-packages (from ipython<9->ipympl) (0.5.1)\n",
      "Requirement already satisfied: jedi>=0.16 in /opt/conda/lib/python3.8/site-packages (from ipython<9->ipympl) (0.18.1)\n",
      "Requirement already satisfied: pickleshare in /opt/conda/lib/python3.8/site-packages (from ipython<9->ipympl) (0.7.5)\n",
      "Requirement already satisfied: prompt-toolkit<3.1.0,>3.0.1 in /opt/conda/lib/python3.8/site-packages (from ipython<9->ipympl) (3.0.31)\n",
      "Requirement already satisfied: pygments>=2.4.0 in /opt/conda/lib/python3.8/site-packages (from ipython<9->ipympl) (2.13.0)\n",
      "Requirement already satisfied: decorator in /opt/conda/lib/python3.8/site-packages (from ipython<9->ipympl) (5.1.1)\n",
      "Requirement already satisfied: matplotlib-inline in /opt/conda/lib/python3.8/site-packages (from ipython<9->ipympl) (0.1.6)\n",
      "Requirement already satisfied: widgetsnbextension~=4.0 in /opt/conda/lib/python3.8/site-packages (from ipywidgets<9,>=7.6.0->ipympl) (4.0.3)\n",
      "Requirement already satisfied: ipykernel>=4.5.1 in /opt/conda/lib/python3.8/site-packages (from ipywidgets<9,>=7.6.0->ipympl) (6.16.0)\n",
      "Requirement already satisfied: jupyterlab-widgets~=3.0 in /opt/conda/lib/python3.8/site-packages (from ipywidgets<9,>=7.6.0->ipympl) (3.0.3)\n",
      "Requirement already satisfied: kiwisolver>=1.0.1 in /opt/conda/lib/python3.8/site-packages (from matplotlib<4,>=3.4.0->ipympl) (1.4.4)\n",
      "Requirement already satisfied: fonttools>=4.22.0 in /opt/conda/lib/python3.8/site-packages (from matplotlib<4,>=3.4.0->ipympl) (4.37.4)\n",
      "Requirement already satisfied: pyparsing>=2.2.1 in /opt/conda/lib/python3.8/site-packages (from matplotlib<4,>=3.4.0->ipympl) (3.0.9)\n",
      "Requirement already satisfied: packaging>=20.0 in /opt/conda/lib/python3.8/site-packages (from matplotlib<4,>=3.4.0->ipympl) (21.3)\n",
      "Requirement already satisfied: contourpy>=1.0.1 in /opt/conda/lib/python3.8/site-packages (from matplotlib<4,>=3.4.0->ipympl) (1.0.5)\n",
      "Requirement already satisfied: cycler>=0.10 in /opt/conda/lib/python3.8/site-packages (from matplotlib<4,>=3.4.0->ipympl) (0.11.0)\n",
      "Requirement already satisfied: python-dateutil>=2.7 in /opt/conda/lib/python3.8/site-packages (from matplotlib<4,>=3.4.0->ipympl) (2.8.2)\n",
      "Requirement already satisfied: jupyter-client>=6.1.12 in /opt/conda/lib/python3.8/site-packages (from ipykernel>=4.5.1->ipywidgets<9,>=7.6.0->ipympl) (7.3.4)\n",
      "Requirement already satisfied: tornado>=6.1 in /opt/conda/lib/python3.8/site-packages (from ipykernel>=4.5.1->ipywidgets<9,>=7.6.0->ipympl) (6.1)\n",
      "Requirement already satisfied: pyzmq>=17 in /opt/conda/lib/python3.8/site-packages (from ipykernel>=4.5.1->ipywidgets<9,>=7.6.0->ipympl) (24.0.1)\n",
      "Requirement already satisfied: nest-asyncio in /opt/conda/lib/python3.8/site-packages (from ipykernel>=4.5.1->ipywidgets<9,>=7.6.0->ipympl) (1.5.6)\n",
      "Requirement already satisfied: debugpy>=1.0 in /opt/conda/lib/python3.8/site-packages (from ipykernel>=4.5.1->ipywidgets<9,>=7.6.0->ipympl) (1.6.3)\n",
      "Requirement already satisfied: psutil in /opt/conda/lib/python3.8/site-packages (from ipykernel>=4.5.1->ipywidgets<9,>=7.6.0->ipympl) (5.9.2)\n",
      "Requirement already satisfied: parso<0.9.0,>=0.8.0 in /opt/conda/lib/python3.8/site-packages (from jedi>=0.16->ipython<9->ipympl) (0.8.3)\n",
      "Requirement already satisfied: ptyprocess>=0.5 in /opt/conda/lib/python3.8/site-packages (from pexpect>4.3->ipython<9->ipympl) (0.7.0)\n",
      "Requirement already satisfied: wcwidth in /opt/conda/lib/python3.8/site-packages (from prompt-toolkit<3.1.0,>3.0.1->ipython<9->ipympl) (0.2.5)\n",
      "Requirement already satisfied: six>=1.5 in /opt/conda/lib/python3.8/site-packages (from python-dateutil>=2.7->matplotlib<4,>=3.4.0->ipympl) (1.16.0)\n",
      "Requirement already satisfied: pure-eval in /opt/conda/lib/python3.8/site-packages (from stack-data->ipython<9->ipympl) (0.2.2)\n",
      "Requirement already satisfied: asttokens in /opt/conda/lib/python3.8/site-packages (from stack-data->ipython<9->ipympl) (2.0.8)\n",
      "Requirement already satisfied: executing in /opt/conda/lib/python3.8/site-packages (from stack-data->ipython<9->ipympl) (1.1.1)\n",
      "Requirement already satisfied: jupyter-core>=4.9.2 in /opt/conda/lib/python3.8/site-packages (from jupyter-client>=6.1.12->ipykernel>=4.5.1->ipywidgets<9,>=7.6.0->ipympl) (4.11.1)\n",
      "Requirement already satisfied: entrypoints in /opt/conda/lib/python3.8/site-packages (from jupyter-client>=6.1.12->ipykernel>=4.5.1->ipywidgets<9,>=7.6.0->ipympl) (0.4)\n",
      "Note: you may need to restart the kernel to use updated packages.\n"
     ]
    }
   ],
   "source": [
    "pip install ipympl"
   ]
  },
  {
   "cell_type": "code",
   "execution_count": 10,
   "id": "50e6b487-0bb3-4603-8e3a-8780a9845af9",
   "metadata": {},
   "outputs": [
    {
     "name": "stderr",
     "output_type": "stream",
     "text": [
      "/tmp/ipykernel_1183/2839354321.py:8: FutureWarning: The default value of numeric_only in DataFrame.corr is deprecated. In a future version, it will default to False. Select only valid columns or specify the value of numeric_only to silence this warning.\n",
      "  corr = df.corr()\n"
     ]
    },
    {
     "data": {
      "image/png": "[encoded data removed]",
      "text/plain": [
       "<Figure size 1200x600 with 3 Axes>"
      ]
     },
     "metadata": {},
     "output_type": "display_data"
    }
   ],
   "source": [
    "#Check the correlations between the features in the dataset\n",
    "import matplotlib.pyplot as plt\n",
    "import seaborn as sns\n",
    "\n",
    "\n",
    "cols = df.columns\n",
    "rows = cols\n",
    "corr = df.corr()\n",
    "\n",
    "# Click event definition start\n",
    "#Matplotlibで用意されているOnclick関数を定義して呼ぶ\n",
    "def onclick(event):\n",
    "#xとyにマウスカーソルのX軸Y軸の値を入力する\n",
    "    x = event.xdata\n",
    "    y = event.ydata\n",
    "    axes = event.inaxes\n",
    "#軸の外(操作範囲外)にカーソルがある場合にxとyにNoneが入るのでこれを除外\n",
    "    if x == None or y == None:\n",
    "        return\n",
    "#ax[0]のヒートマップをクリックしたときだけ操作しそれ以外は無視\n",
    "    if axes != ax[0]:\n",
    "        return\n",
    "\n",
    "#colとrowの変数にカーソル位置に対応する列のcols, 対応する行のrowsを入力\n",
    "#x, yの小数点切り捨ての値がインデックス番号と一致する\n",
    "    col = cols[int(x)]\n",
    "    row = rows[int(y)]\n",
    "\n",
    "#x軸の長さを列数の最大 - 最小と定義する ※散布図の範囲指定用\n",
    "#y軸の長さを行数の最大 - 最小と定義する ※散布図の範囲指定用\n",
    "    xwid = df[col].max() - df[col].min()\n",
    "    ywid = df[row].max() - df[row].min()\n",
    "\n",
    "    # update the plot on the right side\n",
    "#ax[1]の散布図(右、二つ目)を更新する\n",
    "    ax[1].set_title('Correlation coefficient ' + col + ' - ' + row + ': ' \\\n",
    "                    + str(round(corr.loc[row, col], 3)))\n",
    "    ax[1].set_xlabel(col)\n",
    "    ax[1].set_ylabel(row)\n",
    "    ln.set_data(df[col], df[row])\n",
    "#散布図の枠の範囲はmin, max値より少し大きめにしておく\n",
    "    ax[1].set_xlim(df[col].min() - xwid * 0.1, df[col].max() + xwid * 0.1)\n",
    "    ax[1].set_ylim(df[row].min() - ywid * 0.1, df[row].max() + ywid * 0.1)\n",
    "    plt.draw()\n",
    "    # Click event definition end\n",
    "    \n",
    "#Figure: 描画領域全体\n",
    "#Axes: 一つ一つのプロットを描く領域\n",
    "#FigureとAxesを同時に生成(引数: 1行2列のAxes=サブプロットを生成)\n",
    "fig, ax = plt.subplots(1, 2, figsize=(12, 6))\n",
    "#ヒートマップを生成\n",
    "sns.heatmap(corr, ax=ax[0], vmin=-1, vmax=1, annot=True, fmt=\"3.2f\", annot_kws={\"size\": 5})\n",
    "\n",
    "ln, = ax[1].plot([np.nan], [np.nan], 'o') #Plot event\n",
    "#1つめのAxをアスペクト(縦横比)を正方形にする\n",
    "ax[0].set_aspect('equal')\n",
    "#Click event\n",
    "#マウスクリックしたときのイベント定義(イベント名, イベント時の動作=onclickする)\n",
    "fig.canvas.mpl_connect('button_press_event', onclick)\n",
    "#Display the heatmap\n",
    "plt.draw()\n",
    "\n",
    "\n"
   ]
  },
  {
   "cell_type": "markdown",
   "id": "6852cdc1-5e81-4e96-982f-179d701ccfa9",
   "metadata": {},
   "source": [
    "## 2. Data Preparation"
   ]
  },
  {
   "cell_type": "code",
   "execution_count": 11,
   "id": "40022140-ec80-44a0-9423-05b591907086",
   "metadata": {},
   "outputs": [],
   "source": [
    "#Create a copy of df and save it into a variable called df_tmp1\n",
    "df_tmp1 = df.copy()"
   ]
  },
  {
   "cell_type": "code",
   "execution_count": 12,
   "id": "b06c0272-38b0-409b-8ee5-fae6dae38208",
   "metadata": {},
   "outputs": [],
   "source": [
    "#Load the autoreload extension\n",
    "%load_ext autoreload\n",
    "%autoreload 2"
   ]
  },
  {
   "cell_type": "code",
   "execution_count": 13,
   "id": "34adc206-91b2-4360-a68a-e16bd53f3c01",
   "metadata": {},
   "outputs": [],
   "source": [
    "#Remove the columns \"brewery_name\" and \"beer_name\" as they correspond to the ones \"brewery_id\" and \"beer_beerid\" and the numerical ones are better to manipulate than the object ones\n",
    "#df_tmp1.drop(columns = ['brewery_name', 'beer_name'], axis=1, inplace=True)"
   ]
  },
  {
   "cell_type": "code",
   "execution_count": 14,
   "id": "9a841210-53e8-4f9d-9f3f-b6c3b87abecd",
   "metadata": {},
   "outputs": [],
   "source": [
    "#Remove an unnecessary column \"review_profilename\"\n",
    "#df_tmp1.drop(columns = ['review_profilename'], axis=1, inplace=True)"
   ]
  },
  {
   "cell_type": "code",
   "execution_count": 15,
   "id": "9aea502c-fd47-4972-8e98-8cead93714e5",
   "metadata": {},
   "outputs": [
    {
     "name": "stdout",
     "output_type": "stream",
     "text": [
      "Count of missing values brewery_id                0\n",
      "brewery_name             15\n",
      "review_time               0\n",
      "review_overall            0\n",
      "review_aroma              0\n",
      "review_appearance         0\n",
      "review_profilename      348\n",
      "beer_style                0\n",
      "review_palate             0\n",
      "review_taste              0\n",
      "beer_name                 0\n",
      "beer_abv              67785\n",
      "beer_beerid               0\n",
      "dtype: int64\n"
     ]
    }
   ],
   "source": [
    "#Identify missing values\n",
    "print(\"Count of missing values\", df_tmp1.isnull().sum())"
   ]
  },
  {
   "cell_type": "code",
   "execution_count": 16,
   "id": "e4a741fe-dd7f-4f4c-9920-0ae51a5f74db",
   "metadata": {},
   "outputs": [],
   "source": [
    "#Remove the missing values\n",
    "df_tmp1.dropna(inplace=True)"
   ]
  },
  {
   "cell_type": "code",
   "execution_count": 17,
   "id": "19ca5c26-3311-4414-9890-587a7aee3161",
   "metadata": {},
   "outputs": [],
   "source": [
    "#Reset the indexes of the dataframe\n",
    "df_tmp1.reset_index(drop=True, inplace=True)"
   ]
  },
  {
   "cell_type": "code",
   "execution_count": 18,
   "id": "d873ad8f-2550-4ec7-8e26-b3c00a3c8256",
   "metadata": {},
   "outputs": [],
   "source": [
    "import sys"
   ]
  },
  {
   "cell_type": "code",
   "execution_count": 19,
   "id": "df3ee4d4-01a7-41cb-b010-0ec5e7c21a40",
   "metadata": {},
   "outputs": [
    {
     "name": "stdout",
     "output_type": "stream",
     "text": [
      "<class 'pandas.core.frame.DataFrame'>\n",
      "RangeIndex: 1518478 entries, 0 to 1518477\n",
      "Data columns (total 13 columns):\n",
      " #   Column              Non-Null Count    Dtype  \n",
      "---  ------              --------------    -----  \n",
      " 0   brewery_id          1518478 non-null  int64  \n",
      " 1   brewery_name        1518478 non-null  object \n",
      " 2   review_time         1518478 non-null  int64  \n",
      " 3   review_overall      1518478 non-null  float64\n",
      " 4   review_aroma        1518478 non-null  float64\n",
      " 5   review_appearance   1518478 non-null  float64\n",
      " 6   review_profilename  1518478 non-null  object \n",
      " 7   beer_style          1518478 non-null  object \n",
      " 8   review_palate       1518478 non-null  float64\n",
      " 9   review_taste        1518478 non-null  float64\n",
      " 10  beer_name           1518478 non-null  object \n",
      " 11  beer_abv            1518478 non-null  float64\n",
      " 12  beer_beerid         1518478 non-null  int64  \n",
      "dtypes: float64(6), int64(3), object(4)\n",
      "memory usage: 150.6+ MB\n"
     ]
    }
   ],
   "source": [
    "#Convert the datatype of review_time into datetime\n",
    "df_tmp1.info()"
   ]
  },
  {
   "cell_type": "code",
   "execution_count": 20,
   "id": "a1b4e327-5745-4cff-8165-635335b99715",
   "metadata": {},
   "outputs": [],
   "source": [
    "df_tmp2 = df_tmp1.loc[:,['brewery_name','review_aroma', 'review_appearance', 'beer_style','review_palate', 'review_taste','beer_abv']]"
   ]
  },
  {
   "cell_type": "code",
   "execution_count": 21,
   "id": "a2df0ba9-572c-4468-8b5e-b31adb6ca715",
   "metadata": {},
   "outputs": [
    {
     "name": "stdout",
     "output_type": "stream",
     "text": [
      "<class 'pandas.core.frame.DataFrame'>\n",
      "RangeIndex: 1518478 entries, 0 to 1518477\n",
      "Data columns (total 7 columns):\n",
      " #   Column             Non-Null Count    Dtype  \n",
      "---  ------             --------------    -----  \n",
      " 0   brewery_name       1518478 non-null  object \n",
      " 1   review_aroma       1518478 non-null  float64\n",
      " 2   review_appearance  1518478 non-null  float64\n",
      " 3   beer_style         1518478 non-null  object \n",
      " 4   review_palate      1518478 non-null  float64\n",
      " 5   review_taste       1518478 non-null  float64\n",
      " 6   beer_abv           1518478 non-null  float64\n",
      "dtypes: float64(5), object(2)\n",
      "memory usage: 81.1+ MB\n"
     ]
    }
   ],
   "source": [
    "#Check the latest dataframe information\n",
    "df_tmp2.info()"
   ]
  },
  {
   "cell_type": "code",
   "execution_count": 22,
   "id": "6f9bca38-0ad2-4161-a61e-d6e8331b5b43",
   "metadata": {},
   "outputs": [
    {
     "data": {
      "text/html": [
       "<div>\n",
       "<style scoped>\n",
       "    .dataframe tbody tr th:only-of-type {\n",
       "        vertical-align: middle;\n",
       "    }\n",
       "\n",
       "    .dataframe tbody tr th {\n",
       "        vertical-align: top;\n",
       "    }\n",
       "\n",
       "    .dataframe thead th {\n",
       "        text-align: right;\n",
       "    }\n",
       "</style>\n",
       "<table border=\"1\" class=\"dataframe\">\n",
       "  <thead>\n",
       "    <tr style=\"text-align: right;\">\n",
       "      <th></th>\n",
       "      <th>review_aroma</th>\n",
       "      <th>review_appearance</th>\n",
       "      <th>review_palate</th>\n",
       "      <th>review_taste</th>\n",
       "      <th>beer_abv</th>\n",
       "    </tr>\n",
       "  </thead>\n",
       "  <tbody>\n",
       "    <tr>\n",
       "      <th>count</th>\n",
       "      <td>1.518478e+06</td>\n",
       "      <td>1.518478e+06</td>\n",
       "      <td>1.518478e+06</td>\n",
       "      <td>1.518478e+06</td>\n",
       "      <td>1.518478e+06</td>\n",
       "    </tr>\n",
       "    <tr>\n",
       "      <th>mean</th>\n",
       "      <td>3.746218e+00</td>\n",
       "      <td>3.850383e+00</td>\n",
       "      <td>3.753735e+00</td>\n",
       "      <td>3.804082e+00</td>\n",
       "      <td>7.042488e+00</td>\n",
       "    </tr>\n",
       "    <tr>\n",
       "      <th>std</th>\n",
       "      <td>6.953440e-01</td>\n",
       "      <td>6.143106e-01</td>\n",
       "      <td>6.793350e-01</td>\n",
       "      <td>7.286079e-01</td>\n",
       "      <td>2.322568e+00</td>\n",
       "    </tr>\n",
       "    <tr>\n",
       "      <th>min</th>\n",
       "      <td>1.000000e+00</td>\n",
       "      <td>0.000000e+00</td>\n",
       "      <td>1.000000e+00</td>\n",
       "      <td>1.000000e+00</td>\n",
       "      <td>1.000000e-02</td>\n",
       "    </tr>\n",
       "    <tr>\n",
       "      <th>25%</th>\n",
       "      <td>3.500000e+00</td>\n",
       "      <td>3.500000e+00</td>\n",
       "      <td>3.500000e+00</td>\n",
       "      <td>3.500000e+00</td>\n",
       "      <td>5.200000e+00</td>\n",
       "    </tr>\n",
       "    <tr>\n",
       "      <th>50%</th>\n",
       "      <td>4.000000e+00</td>\n",
       "      <td>4.000000e+00</td>\n",
       "      <td>4.000000e+00</td>\n",
       "      <td>4.000000e+00</td>\n",
       "      <td>6.500000e+00</td>\n",
       "    </tr>\n",
       "    <tr>\n",
       "      <th>75%</th>\n",
       "      <td>4.000000e+00</td>\n",
       "      <td>4.000000e+00</td>\n",
       "      <td>4.000000e+00</td>\n",
       "      <td>4.500000e+00</td>\n",
       "      <td>8.500000e+00</td>\n",
       "    </tr>\n",
       "    <tr>\n",
       "      <th>max</th>\n",
       "      <td>5.000000e+00</td>\n",
       "      <td>5.000000e+00</td>\n",
       "      <td>5.000000e+00</td>\n",
       "      <td>5.000000e+00</td>\n",
       "      <td>5.770000e+01</td>\n",
       "    </tr>\n",
       "  </tbody>\n",
       "</table>\n",
       "</div>"
      ],
      "text/plain": [
       "       review_aroma  review_appearance  review_palate  review_taste  \\\n",
       "count  1.518478e+06       1.518478e+06   1.518478e+06  1.518478e+06   \n",
       "mean   3.746218e+00       3.850383e+00   3.753735e+00  3.804082e+00   \n",
       "std    6.953440e-01       6.143106e-01   6.793350e-01  7.286079e-01   \n",
       "min    1.000000e+00       0.000000e+00   1.000000e+00  1.000000e+00   \n",
       "25%    3.500000e+00       3.500000e+00   3.500000e+00  3.500000e+00   \n",
       "50%    4.000000e+00       4.000000e+00   4.000000e+00  4.000000e+00   \n",
       "75%    4.000000e+00       4.000000e+00   4.000000e+00  4.500000e+00   \n",
       "max    5.000000e+00       5.000000e+00   5.000000e+00  5.000000e+00   \n",
       "\n",
       "           beer_abv  \n",
       "count  1.518478e+06  \n",
       "mean   7.042488e+00  \n",
       "std    2.322568e+00  \n",
       "min    1.000000e-02  \n",
       "25%    5.200000e+00  \n",
       "50%    6.500000e+00  \n",
       "75%    8.500000e+00  \n",
       "max    5.770000e+01  "
      ]
     },
     "execution_count": 22,
     "metadata": {},
     "output_type": "execute_result"
    }
   ],
   "source": [
    "#Check the latest dataframe description\n",
    "df_tmp2.describe()"
   ]
  },
  {
   "cell_type": "code",
   "execution_count": 23,
   "id": "20e99e97-f566-4b9f-8813-4c3439ad43b5",
   "metadata": {},
   "outputs": [
    {
     "data": {
      "text/html": [
       "<div>\n",
       "<style scoped>\n",
       "    .dataframe tbody tr th:only-of-type {\n",
       "        vertical-align: middle;\n",
       "    }\n",
       "\n",
       "    .dataframe tbody tr th {\n",
       "        vertical-align: top;\n",
       "    }\n",
       "\n",
       "    .dataframe thead th {\n",
       "        text-align: right;\n",
       "    }\n",
       "</style>\n",
       "<table border=\"1\" class=\"dataframe\">\n",
       "  <thead>\n",
       "    <tr style=\"text-align: right;\">\n",
       "      <th></th>\n",
       "      <th>brewery_name</th>\n",
       "      <th>review_aroma</th>\n",
       "      <th>review_appearance</th>\n",
       "      <th>beer_style</th>\n",
       "      <th>review_palate</th>\n",
       "      <th>review_taste</th>\n",
       "      <th>beer_abv</th>\n",
       "    </tr>\n",
       "  </thead>\n",
       "  <tbody>\n",
       "    <tr>\n",
       "      <th>0</th>\n",
       "      <td>Vecchio Birraio</td>\n",
       "      <td>2.0</td>\n",
       "      <td>2.5</td>\n",
       "      <td>Hefeweizen</td>\n",
       "      <td>1.5</td>\n",
       "      <td>1.5</td>\n",
       "      <td>5.0</td>\n",
       "    </tr>\n",
       "    <tr>\n",
       "      <th>1</th>\n",
       "      <td>Vecchio Birraio</td>\n",
       "      <td>2.5</td>\n",
       "      <td>3.0</td>\n",
       "      <td>English Strong Ale</td>\n",
       "      <td>3.0</td>\n",
       "      <td>3.0</td>\n",
       "      <td>6.2</td>\n",
       "    </tr>\n",
       "    <tr>\n",
       "      <th>2</th>\n",
       "      <td>Vecchio Birraio</td>\n",
       "      <td>2.5</td>\n",
       "      <td>3.0</td>\n",
       "      <td>Foreign / Export Stout</td>\n",
       "      <td>3.0</td>\n",
       "      <td>3.0</td>\n",
       "      <td>6.5</td>\n",
       "    </tr>\n",
       "    <tr>\n",
       "      <th>3</th>\n",
       "      <td>Vecchio Birraio</td>\n",
       "      <td>3.0</td>\n",
       "      <td>3.5</td>\n",
       "      <td>German Pilsener</td>\n",
       "      <td>2.5</td>\n",
       "      <td>3.0</td>\n",
       "      <td>5.0</td>\n",
       "    </tr>\n",
       "    <tr>\n",
       "      <th>4</th>\n",
       "      <td>Caldera Brewing Company</td>\n",
       "      <td>4.5</td>\n",
       "      <td>4.0</td>\n",
       "      <td>American Double / Imperial IPA</td>\n",
       "      <td>4.0</td>\n",
       "      <td>4.5</td>\n",
       "      <td>7.7</td>\n",
       "    </tr>\n",
       "  </tbody>\n",
       "</table>\n",
       "</div>"
      ],
      "text/plain": [
       "              brewery_name  review_aroma  review_appearance  \\\n",
       "0          Vecchio Birraio           2.0                2.5   \n",
       "1          Vecchio Birraio           2.5                3.0   \n",
       "2          Vecchio Birraio           2.5                3.0   \n",
       "3          Vecchio Birraio           3.0                3.5   \n",
       "4  Caldera Brewing Company           4.5                4.0   \n",
       "\n",
       "                       beer_style  review_palate  review_taste  beer_abv  \n",
       "0                      Hefeweizen            1.5           1.5       5.0  \n",
       "1              English Strong Ale            3.0           3.0       6.2  \n",
       "2          Foreign / Export Stout            3.0           3.0       6.5  \n",
       "3                 German Pilsener            2.5           3.0       5.0  \n",
       "4  American Double / Imperial IPA            4.0           4.5       7.7  "
      ]
     },
     "execution_count": 23,
     "metadata": {},
     "output_type": "execute_result"
    }
   ],
   "source": [
    "df_tmp2.head()"
   ]
  },
  {
   "cell_type": "markdown",
   "id": "4367163a-d974-43ba-80a3-ec840ef113b7",
   "metadata": {},
   "source": [
    "**Hereafter, apply StandearScaler and OrdinalEncoding to features**"
   ]
  },
  {
   "cell_type": "code",
   "execution_count": 24,
   "id": "9fbf36cf-6e4c-42d3-9b5c-005cc94b2327",
   "metadata": {},
   "outputs": [],
   "source": [
    "#Import StandearScaler and OrdinalEncoder from sklearn.processing\n",
    "from sklearn.preprocessing import StandardScaler, OrdinalEncoder"
   ]
  },
  {
   "cell_type": "markdown",
   "id": "c12675f6-da97-4078-a98b-e6f76573cc6d",
   "metadata": {},
   "source": [
    "**Apply OrdinalEncoding to categorical columns below**"
   ]
  },
  {
   "cell_type": "code",
   "execution_count": 67,
   "id": "be6a0b36-b862-4fa0-a9f5-39159311ed53",
   "metadata": {},
   "outputs": [
    {
     "data": {
      "text/plain": [
       "['Boston Beer Company (Samuel Adams)',\n",
       " 'Dogfish Head Brewery',\n",
       " 'Stone Brewing Co.',\n",
       " 'Sierra Nevada Brewing Co.',\n",
       " \"Bell's Brewery, Inc.\",\n",
       " 'Rogue Ales',\n",
       " 'Founders Brewing Company',\n",
       " 'Victory Brewing Company',\n",
       " 'Lagunitas Brewing Company',\n",
       " 'Avery Brewing Company']"
      ]
     },
     "execution_count": 67,
     "metadata": {},
     "output_type": "execute_result"
    }
   ],
   "source": [
    "#Create lists of categorical variable values\n",
    "beer_style_list = list(pd.DataFrame(df_tmp2['beer_style'].value_counts()).reset_index().iloc[:,0])\n",
    "brewery_name_list = list(pd.DataFrame(df_tmp2['brewery_name'].value_counts()).reset_index().iloc[:,0])\n",
    "\n",
    "#Save them into CSV so as to use in the API\n",
    "pd.DataFrame(beer_style_list).to_csv('../api/app/data/beer_style.csv', index=False)\n",
    "pd.DataFrame(brewery_name_list).to_csv('../api/app/data/brewery_name.csv', index=False)\n",
    "\n",
    "brewery_name_list[:10]"
   ]
  },
  {
   "cell_type": "code",
   "execution_count": 28,
   "id": "9344d592-0338-474e-8144-801ffa372d7e",
   "metadata": {},
   "outputs": [],
   "source": [
    "#create a dictionary called cats_dict that contains the categorical variables as keys and their respective values\n",
    "cats_dict = {\n",
    "    'beer_style': [df_tmp2['beer_style'].unique()],\n",
    "    'brewery_name': [df_tmp2['brewery_name'].unique()]\n",
    "}"
   ]
  },
  {
   "cell_type": "code",
   "execution_count": 29,
   "id": "8069172c-7c3f-4187-ab87-41b24e9437f2",
   "metadata": {},
   "outputs": [],
   "source": [
    "#Convert the categrical valiable into numerical one\n",
    "df_tmp3 = df_tmp2.copy()\n",
    "for col, cat_cols in cats_dict.items():\n",
    "    col_encoder = OrdinalEncoder(categories=cat_cols, dtype=int)\n",
    "    df_tmp3[col] = col_encoder.fit_transform(df_tmp3[[col]])"
   ]
  },
  {
   "cell_type": "code",
   "execution_count": 30,
   "id": "f94e97ea-2c0e-4cd3-8e1b-6e83c37b3b48",
   "metadata": {},
   "outputs": [
    {
     "data": {
      "text/html": [
       "<div>\n",
       "<style scoped>\n",
       "    .dataframe tbody tr th:only-of-type {\n",
       "        vertical-align: middle;\n",
       "    }\n",
       "\n",
       "    .dataframe tbody tr th {\n",
       "        vertical-align: top;\n",
       "    }\n",
       "\n",
       "    .dataframe thead th {\n",
       "        text-align: right;\n",
       "    }\n",
       "</style>\n",
       "<table border=\"1\" class=\"dataframe\">\n",
       "  <thead>\n",
       "    <tr style=\"text-align: right;\">\n",
       "      <th></th>\n",
       "      <th>brewery_name</th>\n",
       "      <th>review_aroma</th>\n",
       "      <th>review_appearance</th>\n",
       "      <th>beer_style</th>\n",
       "      <th>review_palate</th>\n",
       "      <th>review_taste</th>\n",
       "      <th>beer_abv</th>\n",
       "    </tr>\n",
       "  </thead>\n",
       "  <tbody>\n",
       "    <tr>\n",
       "      <th>count</th>\n",
       "      <td>1.518478e+06</td>\n",
       "      <td>1.518478e+06</td>\n",
       "      <td>1.518478e+06</td>\n",
       "      <td>1.518478e+06</td>\n",
       "      <td>1.518478e+06</td>\n",
       "      <td>1.518478e+06</td>\n",
       "      <td>1.518478e+06</td>\n",
       "    </tr>\n",
       "    <tr>\n",
       "      <th>mean</th>\n",
       "      <td>2.467430e+03</td>\n",
       "      <td>3.746218e+00</td>\n",
       "      <td>3.850383e+00</td>\n",
       "      <td>3.345570e+01</td>\n",
       "      <td>3.753735e+00</td>\n",
       "      <td>3.804082e+00</td>\n",
       "      <td>7.042488e+00</td>\n",
       "    </tr>\n",
       "    <tr>\n",
       "      <th>std</th>\n",
       "      <td>1.497901e+03</td>\n",
       "      <td>6.953440e-01</td>\n",
       "      <td>6.143106e-01</td>\n",
       "      <td>2.534587e+01</td>\n",
       "      <td>6.793350e-01</td>\n",
       "      <td>7.286079e-01</td>\n",
       "      <td>2.322568e+00</td>\n",
       "    </tr>\n",
       "    <tr>\n",
       "      <th>min</th>\n",
       "      <td>0.000000e+00</td>\n",
       "      <td>1.000000e+00</td>\n",
       "      <td>0.000000e+00</td>\n",
       "      <td>0.000000e+00</td>\n",
       "      <td>1.000000e+00</td>\n",
       "      <td>1.000000e+00</td>\n",
       "      <td>1.000000e-02</td>\n",
       "    </tr>\n",
       "    <tr>\n",
       "      <th>25%</th>\n",
       "      <td>1.121000e+03</td>\n",
       "      <td>3.500000e+00</td>\n",
       "      <td>3.500000e+00</td>\n",
       "      <td>1.300000e+01</td>\n",
       "      <td>3.500000e+00</td>\n",
       "      <td>3.500000e+00</td>\n",
       "      <td>5.200000e+00</td>\n",
       "    </tr>\n",
       "    <tr>\n",
       "      <th>50%</th>\n",
       "      <td>2.399000e+03</td>\n",
       "      <td>4.000000e+00</td>\n",
       "      <td>4.000000e+00</td>\n",
       "      <td>2.700000e+01</td>\n",
       "      <td>4.000000e+00</td>\n",
       "      <td>4.000000e+00</td>\n",
       "      <td>6.500000e+00</td>\n",
       "    </tr>\n",
       "    <tr>\n",
       "      <th>75%</th>\n",
       "      <td>3.725000e+03</td>\n",
       "      <td>4.000000e+00</td>\n",
       "      <td>4.000000e+00</td>\n",
       "      <td>5.300000e+01</td>\n",
       "      <td>4.000000e+00</td>\n",
       "      <td>4.500000e+00</td>\n",
       "      <td>8.500000e+00</td>\n",
       "    </tr>\n",
       "    <tr>\n",
       "      <th>max</th>\n",
       "      <td>5.154000e+03</td>\n",
       "      <td>5.000000e+00</td>\n",
       "      <td>5.000000e+00</td>\n",
       "      <td>1.030000e+02</td>\n",
       "      <td>5.000000e+00</td>\n",
       "      <td>5.000000e+00</td>\n",
       "      <td>5.770000e+01</td>\n",
       "    </tr>\n",
       "  </tbody>\n",
       "</table>\n",
       "</div>"
      ],
      "text/plain": [
       "       brewery_name  review_aroma  review_appearance    beer_style  \\\n",
       "count  1.518478e+06  1.518478e+06       1.518478e+06  1.518478e+06   \n",
       "mean   2.467430e+03  3.746218e+00       3.850383e+00  3.345570e+01   \n",
       "std    1.497901e+03  6.953440e-01       6.143106e-01  2.534587e+01   \n",
       "min    0.000000e+00  1.000000e+00       0.000000e+00  0.000000e+00   \n",
       "25%    1.121000e+03  3.500000e+00       3.500000e+00  1.300000e+01   \n",
       "50%    2.399000e+03  4.000000e+00       4.000000e+00  2.700000e+01   \n",
       "75%    3.725000e+03  4.000000e+00       4.000000e+00  5.300000e+01   \n",
       "max    5.154000e+03  5.000000e+00       5.000000e+00  1.030000e+02   \n",
       "\n",
       "       review_palate  review_taste      beer_abv  \n",
       "count   1.518478e+06  1.518478e+06  1.518478e+06  \n",
       "mean    3.753735e+00  3.804082e+00  7.042488e+00  \n",
       "std     6.793350e-01  7.286079e-01  2.322568e+00  \n",
       "min     1.000000e+00  1.000000e+00  1.000000e-02  \n",
       "25%     3.500000e+00  3.500000e+00  5.200000e+00  \n",
       "50%     4.000000e+00  4.000000e+00  6.500000e+00  \n",
       "75%     4.000000e+00  4.500000e+00  8.500000e+00  \n",
       "max     5.000000e+00  5.000000e+00  5.770000e+01  "
      ]
     },
     "execution_count": 30,
     "metadata": {},
     "output_type": "execute_result"
    }
   ],
   "source": [
    "df_tmp3.describe()"
   ]
  },
  {
   "cell_type": "code",
   "execution_count": 31,
   "id": "bcc0e43c-da5a-4252-b6ed-f3d33c83a46b",
   "metadata": {},
   "outputs": [
    {
     "data": {
      "text/html": [
       "<div>\n",
       "<style scoped>\n",
       "    .dataframe tbody tr th:only-of-type {\n",
       "        vertical-align: middle;\n",
       "    }\n",
       "\n",
       "    .dataframe tbody tr th {\n",
       "        vertical-align: top;\n",
       "    }\n",
       "\n",
       "    .dataframe thead th {\n",
       "        text-align: right;\n",
       "    }\n",
       "</style>\n",
       "<table border=\"1\" class=\"dataframe\">\n",
       "  <thead>\n",
       "    <tr style=\"text-align: right;\">\n",
       "      <th></th>\n",
       "      <th>brewery_name</th>\n",
       "      <th>review_aroma</th>\n",
       "      <th>review_appearance</th>\n",
       "      <th>beer_style</th>\n",
       "      <th>review_palate</th>\n",
       "      <th>review_taste</th>\n",
       "      <th>beer_abv</th>\n",
       "    </tr>\n",
       "  </thead>\n",
       "  <tbody>\n",
       "    <tr>\n",
       "      <th>0</th>\n",
       "      <td>0</td>\n",
       "      <td>2.0</td>\n",
       "      <td>2.5</td>\n",
       "      <td>0</td>\n",
       "      <td>1.5</td>\n",
       "      <td>1.5</td>\n",
       "      <td>5.0</td>\n",
       "    </tr>\n",
       "    <tr>\n",
       "      <th>1</th>\n",
       "      <td>0</td>\n",
       "      <td>2.5</td>\n",
       "      <td>3.0</td>\n",
       "      <td>1</td>\n",
       "      <td>3.0</td>\n",
       "      <td>3.0</td>\n",
       "      <td>6.2</td>\n",
       "    </tr>\n",
       "    <tr>\n",
       "      <th>2</th>\n",
       "      <td>0</td>\n",
       "      <td>2.5</td>\n",
       "      <td>3.0</td>\n",
       "      <td>2</td>\n",
       "      <td>3.0</td>\n",
       "      <td>3.0</td>\n",
       "      <td>6.5</td>\n",
       "    </tr>\n",
       "    <tr>\n",
       "      <th>3</th>\n",
       "      <td>0</td>\n",
       "      <td>3.0</td>\n",
       "      <td>3.5</td>\n",
       "      <td>3</td>\n",
       "      <td>2.5</td>\n",
       "      <td>3.0</td>\n",
       "      <td>5.0</td>\n",
       "    </tr>\n",
       "    <tr>\n",
       "      <th>4</th>\n",
       "      <td>1</td>\n",
       "      <td>4.5</td>\n",
       "      <td>4.0</td>\n",
       "      <td>4</td>\n",
       "      <td>4.0</td>\n",
       "      <td>4.5</td>\n",
       "      <td>7.7</td>\n",
       "    </tr>\n",
       "  </tbody>\n",
       "</table>\n",
       "</div>"
      ],
      "text/plain": [
       "   brewery_name  review_aroma  review_appearance  beer_style  review_palate  \\\n",
       "0             0           2.0                2.5           0            1.5   \n",
       "1             0           2.5                3.0           1            3.0   \n",
       "2             0           2.5                3.0           2            3.0   \n",
       "3             0           3.0                3.5           3            2.5   \n",
       "4             1           4.5                4.0           4            4.0   \n",
       "\n",
       "   review_taste  beer_abv  \n",
       "0           1.5       5.0  \n",
       "1           3.0       6.2  \n",
       "2           3.0       6.5  \n",
       "3           3.0       5.0  \n",
       "4           4.5       7.7  "
      ]
     },
     "execution_count": 31,
     "metadata": {},
     "output_type": "execute_result"
    }
   ],
   "source": [
    "df_tmp3.head()"
   ]
  },
  {
   "cell_type": "code",
   "execution_count": 32,
   "id": "fbba709b-57f5-4043-a320-712738e05e55",
   "metadata": {},
   "outputs": [
    {
     "name": "stdout",
     "output_type": "stream",
     "text": [
      "<bound method Series.unique of 0           0\n",
      "1           1\n",
      "2           2\n",
      "3           3\n",
      "4           4\n",
      "           ..\n",
      "1518473    40\n",
      "1518474    40\n",
      "1518475    40\n",
      "1518476    40\n",
      "1518477    40\n",
      "Name: beer_style, Length: 1518478, dtype: int64>\n"
     ]
    }
   ],
   "source": [
    "print(df_tmp3['beer_style'].unique)"
   ]
  },
  {
   "cell_type": "markdown",
   "id": "19f5a2d2-fdeb-4b6a-80c1-2d6a8849f412",
   "metadata": {},
   "source": [
    "**Apply StandardScaler to numerical columns below**"
   ]
  },
  {
   "cell_type": "code",
   "execution_count": 33,
   "id": "cd3e582d-fff4-4e55-9d25-05c37df19e05",
   "metadata": {},
   "outputs": [],
   "source": [
    "#Create a list called num_cols that contains all the numerical columns in the dataframe\n",
    "num_cols = ['review_aroma', 'review_appearance', 'review_palate', 'review_taste', 'beer_abv']"
   ]
  },
  {
   "cell_type": "code",
   "execution_count": 34,
   "id": "af62a37e-9065-4378-8476-16406f0dd75b",
   "metadata": {},
   "outputs": [],
   "source": [
    "#Instantiate a StandardScaler into a variable called sc\n",
    "sc = StandardScaler()"
   ]
  },
  {
   "cell_type": "code",
   "execution_count": 35,
   "id": "af2d5006-1c93-41be-bba3-71825cc21e7e",
   "metadata": {},
   "outputs": [],
   "source": [
    "#Fit and transform the numeric feature of the dataframe, and replace the data into it\n",
    "df_tmp4 = df_tmp3.copy()\n",
    "df_tmp4[num_cols] = sc.fit_transform(df_tmp4[num_cols])"
   ]
  },
  {
   "cell_type": "markdown",
   "id": "0b39c7be-c349-4667-ab0b-3dc1e5bc8770",
   "metadata": {},
   "source": [
    "**Check the processed dataset**"
   ]
  },
  {
   "cell_type": "code",
   "execution_count": 36,
   "id": "07f35e5b-319e-47ab-9a22-e2a88a942f42",
   "metadata": {},
   "outputs": [
    {
     "name": "stdout",
     "output_type": "stream",
     "text": [
      "<class 'pandas.core.frame.DataFrame'>\n",
      "RangeIndex: 1518478 entries, 0 to 1518477\n",
      "Data columns (total 7 columns):\n",
      " #   Column             Non-Null Count    Dtype  \n",
      "---  ------             --------------    -----  \n",
      " 0   brewery_name       1518478 non-null  int64  \n",
      " 1   review_aroma       1518478 non-null  float64\n",
      " 2   review_appearance  1518478 non-null  float64\n",
      " 3   beer_style         1518478 non-null  int64  \n",
      " 4   review_palate      1518478 non-null  float64\n",
      " 5   review_taste       1518478 non-null  float64\n",
      " 6   beer_abv           1518478 non-null  float64\n",
      "dtypes: float64(5), int64(2)\n",
      "memory usage: 81.1 MB\n"
     ]
    }
   ],
   "source": [
    "df_tmp4.info()"
   ]
  },
  {
   "cell_type": "code",
   "execution_count": 37,
   "id": "fce8d74a-e733-4533-aa59-08176cf28a87",
   "metadata": {},
   "outputs": [
    {
     "data": {
      "text/html": [
       "<div>\n",
       "<style scoped>\n",
       "    .dataframe tbody tr th:only-of-type {\n",
       "        vertical-align: middle;\n",
       "    }\n",
       "\n",
       "    .dataframe tbody tr th {\n",
       "        vertical-align: top;\n",
       "    }\n",
       "\n",
       "    .dataframe thead th {\n",
       "        text-align: right;\n",
       "    }\n",
       "</style>\n",
       "<table border=\"1\" class=\"dataframe\">\n",
       "  <thead>\n",
       "    <tr style=\"text-align: right;\">\n",
       "      <th></th>\n",
       "      <th>brewery_name</th>\n",
       "      <th>review_aroma</th>\n",
       "      <th>review_appearance</th>\n",
       "      <th>beer_style</th>\n",
       "      <th>review_palate</th>\n",
       "      <th>review_taste</th>\n",
       "      <th>beer_abv</th>\n",
       "    </tr>\n",
       "  </thead>\n",
       "  <tbody>\n",
       "    <tr>\n",
       "      <th>0</th>\n",
       "      <td>0</td>\n",
       "      <td>-2.511302</td>\n",
       "      <td>-2.198210</td>\n",
       "      <td>0</td>\n",
       "      <td>-3.317561</td>\n",
       "      <td>-3.162309</td>\n",
       "      <td>-0.879410</td>\n",
       "    </tr>\n",
       "    <tr>\n",
       "      <th>1</th>\n",
       "      <td>0</td>\n",
       "      <td>-1.792233</td>\n",
       "      <td>-1.384289</td>\n",
       "      <td>1</td>\n",
       "      <td>-1.109519</td>\n",
       "      <td>-1.103587</td>\n",
       "      <td>-0.362740</td>\n",
       "    </tr>\n",
       "    <tr>\n",
       "      <th>2</th>\n",
       "      <td>0</td>\n",
       "      <td>-1.792233</td>\n",
       "      <td>-1.384289</td>\n",
       "      <td>2</td>\n",
       "      <td>-1.109519</td>\n",
       "      <td>-1.103587</td>\n",
       "      <td>-0.233573</td>\n",
       "    </tr>\n",
       "    <tr>\n",
       "      <th>3</th>\n",
       "      <td>0</td>\n",
       "      <td>-1.073164</td>\n",
       "      <td>-0.570368</td>\n",
       "      <td>3</td>\n",
       "      <td>-1.845533</td>\n",
       "      <td>-1.103587</td>\n",
       "      <td>-0.879410</td>\n",
       "    </tr>\n",
       "    <tr>\n",
       "      <th>4</th>\n",
       "      <td>1</td>\n",
       "      <td>1.084042</td>\n",
       "      <td>0.243553</td>\n",
       "      <td>4</td>\n",
       "      <td>0.362510</td>\n",
       "      <td>0.955134</td>\n",
       "      <td>0.283097</td>\n",
       "    </tr>\n",
       "  </tbody>\n",
       "</table>\n",
       "</div>"
      ],
      "text/plain": [
       "   brewery_name  review_aroma  review_appearance  beer_style  review_palate  \\\n",
       "0             0     -2.511302          -2.198210           0      -3.317561   \n",
       "1             0     -1.792233          -1.384289           1      -1.109519   \n",
       "2             0     -1.792233          -1.384289           2      -1.109519   \n",
       "3             0     -1.073164          -0.570368           3      -1.845533   \n",
       "4             1      1.084042           0.243553           4       0.362510   \n",
       "\n",
       "   review_taste  beer_abv  \n",
       "0     -3.162309 -0.879410  \n",
       "1     -1.103587 -0.362740  \n",
       "2     -1.103587 -0.233573  \n",
       "3     -1.103587 -0.879410  \n",
       "4      0.955134  0.283097  "
      ]
     },
     "execution_count": 37,
     "metadata": {},
     "output_type": "execute_result"
    }
   ],
   "source": [
    "df_tmp4.head()"
   ]
  },
  {
   "cell_type": "markdown",
   "id": "7758093d-23bd-42a9-89fd-0ebfdf7f0189",
   "metadata": {},
   "source": [
    "**Save the processed dataset**"
   ]
  },
  {
   "cell_type": "code",
   "execution_count": 38,
   "id": "8f8b0cf8-3748-47f2-af56-0d9a6173afd7",
   "metadata": {},
   "outputs": [],
   "source": [
    "#Copy the dataframe into a variable called df_cleaned\n",
    "df_cleaned = df_tmp4.copy()\n",
    "\n",
    "#Save the lates dataframe into data/interim folder\n",
    "df_cleaned.to_csv('../data/interim/beer_reviews.csv', index=False)"
   ]
  },
  {
   "cell_type": "markdown",
   "id": "21e0a21c-04b5-4e95-8513-293a3c6a7fec",
   "metadata": {
    "tags": []
   },
   "source": [
    "**Then, split the dataframe into training and testing sets**"
   ]
  },
  {
   "cell_type": "code",
   "execution_count": 39,
   "id": "9140a55b-d253-44eb-8a85-ed827f93fb44",
   "metadata": {},
   "outputs": [],
   "source": [
    "#Import split_sets_random and save_sets functions\n",
    "sys.path.append('/home/jovyan/work/src')\n",
    "from data.sets import split_sets_random, save_sets"
   ]
  },
  {
   "cell_type": "code",
   "execution_count": 40,
   "id": "f08fe0ad-978e-48fc-bbd9-6b70ef315566",
   "metadata": {},
   "outputs": [],
   "source": [
    "#Split the dataset into training, testing, and validating sets\n",
    "X_train, y_train, X_val, y_val, X_test, y_test = split_sets_random(df_cleaned, target_col='beer_style', test_ratio=0.2)"
   ]
  },
  {
   "cell_type": "code",
   "execution_count": 41,
   "id": "2c2e18a1-5704-4485-8079-a8e3e2177d3e",
   "metadata": {},
   "outputs": [],
   "source": [
    "#Save the datasets\n",
    "save_sets(X_train=X_train, y_train=y_train, X_val=X_val, y_val=y_val, X_test=X_test, y_test=y_test, path='../data/processed/')"
   ]
  },
  {
   "cell_type": "code",
   "execution_count": 42,
   "id": "e3528863-8a8f-48a9-bab4-6c3cf1eafde5",
   "metadata": {},
   "outputs": [
    {
     "name": "stdout",
     "output_type": "stream",
     "text": [
      "Looking in indexes: https://pypi.org/simple, https://download.pytorch.org/whl/cpu\n",
      "Collecting torch\n",
      "  Downloading https://download.pytorch.org/whl/cpu/torch-1.13.1%2Bcpu-cp38-cp38-linux_x86_64.whl (199.1 MB)\n",
      "\u001b[2K     \u001b[90m━━━━━━━━━━━━━━━━━━━━━━━━━━━━━━━━━━━━━━━\u001b[0m \u001b[32m199.1/199.1 MB\u001b[0m \u001b[31m1.2 MB/s\u001b[0m eta \u001b[36m0:00:00\u001b[0m00:01\u001b[0m00:01\u001b[0m\n",
      "\u001b[?25hCollecting torchvision\n",
      "  Downloading https://download.pytorch.org/whl/cpu/torchvision-0.14.1%2Bcpu-cp38-cp38-linux_x86_64.whl (16.8 MB)\n",
      "\u001b[2K     \u001b[90m━━━━━━━━━━━━━━━━━━━━━━━━━━━━━━━━━━━━━━━━\u001b[0m \u001b[32m16.8/16.8 MB\u001b[0m \u001b[31m4.5 MB/s\u001b[0m eta \u001b[36m0:00:00\u001b[0m00:01\u001b[0m00:01\u001b[0m\n",
      "\u001b[?25hCollecting torchtext\n",
      "  Downloading torchtext-0.14.1-cp38-cp38-manylinux1_x86_64.whl (2.0 MB)\n",
      "\u001b[2K     \u001b[90m━━━━━━━━━━━━━━━━━━━━━━━━━━━━━━━━━━━━━━━━\u001b[0m \u001b[32m2.0/2.0 MB\u001b[0m \u001b[31m4.4 MB/s\u001b[0m eta \u001b[36m0:00:00\u001b[0m00:01\u001b[0m00:01\u001b[0m\n",
      "\u001b[?25hRequirement already satisfied: typing-extensions in /opt/conda/lib/python3.8/site-packages (from torch) (4.4.0)\n",
      "Requirement already satisfied: numpy in /opt/conda/lib/python3.8/site-packages (from torchvision) (1.23.3)\n",
      "Requirement already satisfied: requests in /opt/conda/lib/python3.8/site-packages (from torchvision) (2.28.1)\n",
      "Requirement already satisfied: pillow!=8.3.*,>=5.3.0 in /opt/conda/lib/python3.8/site-packages (from torchvision) (9.2.0)\n",
      "Requirement already satisfied: tqdm in /opt/conda/lib/python3.8/site-packages (from torchtext) (4.64.1)\n",
      "Requirement already satisfied: certifi>=2017.4.17 in /opt/conda/lib/python3.8/site-packages (from requests->torchvision) (2022.9.24)\n",
      "Requirement already satisfied: urllib3<1.27,>=1.21.1 in /opt/conda/lib/python3.8/site-packages (from requests->torchvision) (1.26.11)\n",
      "Requirement already satisfied: idna<4,>=2.5 in /opt/conda/lib/python3.8/site-packages (from requests->torchvision) (3.4)\n",
      "Requirement already satisfied: charset-normalizer<3,>=2 in /opt/conda/lib/python3.8/site-packages (from requests->torchvision) (2.1.1)\n",
      "Installing collected packages: torch, torchvision, torchtext\n",
      "Successfully installed torch-1.13.1+cpu torchtext-0.14.1 torchvision-0.14.1+cpu\n",
      "Note: you may need to restart the kernel to use updated packages.\n"
     ]
    }
   ],
   "source": [
    "pip install torch torchvision torchtext --extra-index-url https://download.pytorch.org/whl/cpu"
   ]
  },
  {
   "cell_type": "code",
   "execution_count": 43,
   "id": "0ede9bb9-5197-43b3-bf2d-511e56215dda",
   "metadata": {},
   "outputs": [],
   "source": [
    "sys.path.append('/home/jovyan/work/src')\n",
    "from models.pytorch import PytorchDataset\n",
    "train_dataset = PytorchDataset(X=X_train, y=y_train)\n",
    "val_dataset = PytorchDataset(X=X_val, y=y_val)\n",
    "test_dataset = PytorchDataset(X=X_test, y=y_test)"
   ]
  },
  {
   "cell_type": "markdown",
   "id": "6b4368a1-f897-48e3-a28a-b63525b3811e",
   "metadata": {},
   "source": [
    "## 3. Get Baseline Model"
   ]
  },
  {
   "cell_type": "code",
   "execution_count": 44,
   "id": "d0142aa9-b72d-4826-b568-9aeb184bfd05",
   "metadata": {},
   "outputs": [],
   "source": [
    "#Import NullModel from src.models.null\n",
    "sys.path.append('/home/jovyan/work/src')\n",
    "from models.null import NullModel"
   ]
  },
  {
   "cell_type": "code",
   "execution_count": 45,
   "id": "26a05a74-1585-4e29-b943-374a45031fcb",
   "metadata": {},
   "outputs": [
    {
     "name": "stderr",
     "output_type": "stream",
     "text": [
      "/home/jovyan/work/src/models/null.py:44: FutureWarning: Unlike other reduction functions (e.g. `skew`, `kurtosis`), the default behavior of `mode` typically preserves the axis it acts along. In SciPy 1.11.0, this behavior will change: the default value of `keepdims` will become False, the `axis` over which the statistic is taken will be eliminated, and the value None will no longer be accepted. Set `keepdims` to True or False to avoid this warning.\n",
      "  self.pred_value = mode(y)[0][0]\n"
     ]
    }
   ],
   "source": [
    "#Instantiate a NullModel and call .fit_predict() on the training target to extract your predictions into a variable called y_base\n",
    "baseline_model = NullModel(target_type='classification')\n",
    "y_base = baseline_model.fit_predict(y_train)"
   ]
  },
  {
   "cell_type": "code",
   "execution_count": 46,
   "id": "aba699a0-1a5a-4da7-9916-a248ddb31159",
   "metadata": {},
   "outputs": [],
   "source": [
    "#Import print_class_perf from src.models.performance\n",
    "sys.path.append('/home/jovyan/work/src')\n",
    "from models.performance import print_class_perf"
   ]
  },
  {
   "cell_type": "code",
   "execution_count": 47,
   "id": "2e5ab713-7db5-42c6-886c-9d124666935d",
   "metadata": {},
   "outputs": [
    {
     "name": "stdout",
     "output_type": "stream",
     "text": [
      "Accuracy Training: 0.07444192974099043\n",
      "F1 Training: 0.010315310209270104\n"
     ]
    }
   ],
   "source": [
    "#Print the classification metrics for this baseline model\n",
    "print_class_perf(y_base, y_train, set_name='Training', average='weighted')"
   ]
  },
  {
   "cell_type": "markdown",
   "id": "7bbf274a-9733-4cb9-92e4-2f7335eaa3ac",
   "metadata": {},
   "source": [
    "## 4. Define Architecture"
   ]
  },
  {
   "cell_type": "code",
   "execution_count": 48,
   "id": "83602c62-07a5-40a7-b5aa-d8c4e076116b",
   "metadata": {},
   "outputs": [
    {
     "name": "stdout",
     "output_type": "stream",
     "text": [
      "(911086, 6)\n"
     ]
    }
   ],
   "source": [
    "print(X_train.shape)"
   ]
  },
  {
   "cell_type": "code",
   "execution_count": 49,
   "id": "a0c25ca2-ea73-4aaf-8e20-f57db4b4bc0c",
   "metadata": {},
   "outputs": [
    {
     "name": "stdout",
     "output_type": "stream",
     "text": [
      "104\n"
     ]
    }
   ],
   "source": [
    "print(df_cleaned.beer_style.nunique())"
   ]
  },
  {
   "cell_type": "code",
   "execution_count": 50,
   "id": "610bc174-0eb7-45bd-aeed-51788cfe372f",
   "metadata": {},
   "outputs": [],
   "source": [
    "#Instantiate PytorchMultiClass with the correct number of input feature and save it into a variable called model\n",
    "sys.path.append('/home/jovyan/work/src')\n",
    "from models.pytorch import PytorchMultiClass\n",
    "model = PytorchMultiClass(X_train.shape[1])"
   ]
  },
  {
   "cell_type": "code",
   "execution_count": 51,
   "id": "ce2d01a6-5947-4ba3-ad94-7a8753adce30",
   "metadata": {},
   "outputs": [
    {
     "name": "stdout",
     "output_type": "stream",
     "text": [
      "PytorchMultiClass(\n",
      "  (layer_1): Linear(in_features=6, out_features=128, bias=True)\n",
      "  (layer_2): Linear(in_features=128, out_features=128, bias=True)\n",
      "  (layer_out): Linear(in_features=128, out_features=104, bias=True)\n",
      ")\n"
     ]
    }
   ],
   "source": [
    "print(model)"
   ]
  },
  {
   "cell_type": "code",
   "execution_count": 52,
   "id": "ecec8d55-48c0-45d6-8e11-f7df8fd31b6c",
   "metadata": {},
   "outputs": [
    {
     "data": {
      "text/plain": [
       "PytorchMultiClass(\n",
       "  (layer_1): Linear(in_features=6, out_features=128, bias=True)\n",
       "  (layer_2): Linear(in_features=128, out_features=128, bias=True)\n",
       "  (layer_out): Linear(in_features=128, out_features=104, bias=True)\n",
       ")"
      ]
     },
     "execution_count": 52,
     "metadata": {},
     "output_type": "execute_result"
    }
   ],
   "source": [
    "#Import det_device from pytorch and use the function\n",
    "sys.path.append('/home/jovyan/work/src')\n",
    "from models.pytorch import get_device\n",
    "device = get_device()\n",
    "model.to(device)"
   ]
  },
  {
   "cell_type": "markdown",
   "id": "21aa7292-e239-49c2-9eba-3389945bd052",
   "metadata": {},
   "source": [
    "## 5. Train Model"
   ]
  },
  {
   "cell_type": "code",
   "execution_count": 53,
   "id": "b37fa364-9cf5-4515-8d66-98a26c3d4c6b",
   "metadata": {},
   "outputs": [],
   "source": [
    "import torch\n",
    "import torch.nn as nn\n",
    "import torch.nn.functional as F"
   ]
  },
  {
   "cell_type": "code",
   "execution_count": 54,
   "id": "a0f11624-42f6-4ec3-915d-50dc18fcbfe5",
   "metadata": {},
   "outputs": [],
   "source": [
    "#Instantiate a nn.CrossEntropyLoss() and save it into a variable called criterion\n",
    "criterion = nn.CrossEntropyLoss()"
   ]
  },
  {
   "cell_type": "code",
   "execution_count": 55,
   "id": "24a21462-93fb-40b0-ab10-8777c25e5393",
   "metadata": {},
   "outputs": [],
   "source": [
    "#Instantiate a torch.optim.Adam() optimizer with the model's parameters and 0.1 as learning rate and save it into a variable called optimizer\n",
    "optimizer = torch.optim.Adam(model.parameters(), lr=0.1)"
   ]
  },
  {
   "cell_type": "code",
   "execution_count": 56,
   "id": "4ffde0ee-9f5a-4602-bfce-8c567852dece",
   "metadata": {},
   "outputs": [],
   "source": [
    "#Create 2 variables called N_EPOCHS and BATCH_SIZE\n",
    "N_EPOCHS = 1\n",
    "BATCH_SIZE = 128"
   ]
  },
  {
   "cell_type": "code",
   "execution_count": 57,
   "id": "b4e2ff4c-8a31-4fdc-90ee-1808742f0ed0",
   "metadata": {},
   "outputs": [
    {
     "name": "stdout",
     "output_type": "stream",
     "text": [
      "Epoch: 0\n",
      "\t(train)\t|\tLoss: 0.0408\t|\tAcc: 7.321%\n",
      "\t(valid)\t|\tLoss: 0.0325\t|\tAcc: 7.516%\n"
     ]
    }
   ],
   "source": [
    "# Create a for loop that will iterate through the specified number of epochs and will train the model with the training set and assess the performance on the validation set and print the scores of each Epoch\n",
    "sys.path.append('/home/jovyan/work/src')\n",
    "from models.pytorch import train_classification, test_classification\n",
    "\n",
    "for epoch in range(N_EPOCHS):\n",
    "    train_loss, train_acc = train_classification(train_dataset, model=model, criterion=criterion, optimizer=optimizer, batch_size=BATCH_SIZE, device=device)\n",
    "    valid_loss, valid_acc = test_classification(val_dataset, model=model, criterion=criterion, batch_size=BATCH_SIZE, device=device)\n",
    "    print(f'Epoch: {epoch}')\n",
    "    print(f'\\t(train)\\t|\\tLoss: {train_loss:.4f}\\t|\\tAcc: {train_acc * 100:.3f}%')\n",
    "    print(f'\\t(valid)\\t|\\tLoss: {valid_loss:.4f}\\t|\\tAcc: {valid_acc * 100:.3f}%')"
   ]
  },
  {
   "cell_type": "code",
   "execution_count": 58,
   "id": "d8d1db58-955a-4c6b-80ae-508be3b9fe0e",
   "metadata": {},
   "outputs": [
    {
     "data": {
      "text/plain": [
       "['../api/app/models/beer_prediction.joblib']"
      ]
     },
     "execution_count": 58,
     "metadata": {},
     "output_type": "execute_result"
    }
   ],
   "source": [
    "torch.save(model, \"../api/app/models/beer_prediction.pt\")\n",
    "from joblib import dump \n",
    "dump(model, \"../api/app/models/beer_prediction.joblib\")"
   ]
  },
  {
   "cell_type": "markdown",
   "id": "e5f772a3-a7ca-4c78-a18b-bd4a9142d44d",
   "metadata": {},
   "source": [
    "## Assess Performance"
   ]
  },
  {
   "cell_type": "code",
   "execution_count": 59,
   "id": "fa588e88-12e6-4f6f-86a6-0116294dfba3",
   "metadata": {},
   "outputs": [
    {
     "name": "stdout",
     "output_type": "stream",
     "text": [
      "\tLoss: 0.0325\t|\tAccuracy: 0.0740\n"
     ]
    }
   ],
   "source": [
    "test_loss, test_acc = test_classification(test_dataset, model=model, criterion=criterion, batch_size=BATCH_SIZE, device=device)\n",
    "print(f'\\tLoss: {test_loss:.4f}\\t|\\tAccuracy: {test_acc:.4f}')"
   ]
  },
  {
   "cell_type": "code",
   "execution_count": null,
   "id": "a34f8df5-4be3-4668-8b87-76a77367d68c",
   "metadata": {},
   "outputs": [],
   "source": []
  },
  {
   "cell_type": "code",
   "execution_count": null,
   "id": "80c326d2-4fec-4a59-94a7-f22897239626",
   "metadata": {},
   "outputs": [],
   "source": []
  },
  {
   "cell_type": "markdown",
   "id": "6b1749f3-0dc5-44f6-b022-5e1cba4f6df9",
   "metadata": {},
   "source": [
    "## Build FastAPI App"
   ]
  },
  {
   "cell_type": "code",
   "execution_count": 61,
   "id": "e1029d4c-4548-4f67-addf-0f5caa3ab3cc",
   "metadata": {},
   "outputs": [
    {
     "name": "stdout",
     "output_type": "stream",
     "text": [
      "Collecting fastapi\n",
      "  Downloading fastapi-0.88.0-py3-none-any.whl (55 kB)\n",
      "\u001b[2K     \u001b[90m━━━━━━━━━━━━━━━━━━━━━━━━━━━━━━━━━━━━━━━━\u001b[0m \u001b[32m55.5/55.5 kB\u001b[0m \u001b[31m2.6 MB/s\u001b[0m eta \u001b[36m0:00:00\u001b[0m\n",
      "\u001b[?25hCollecting starlette==0.22.0\n",
      "  Downloading starlette-0.22.0-py3-none-any.whl (64 kB)\n",
      "\u001b[2K     \u001b[90m━━━━━━━━━━━━━━━━━━━━━━━━━━━━━━━━━━━━━━━━\u001b[0m \u001b[32m64.3/64.3 kB\u001b[0m \u001b[31m2.7 MB/s\u001b[0m eta \u001b[36m0:00:00\u001b[0m\n",
      "\u001b[?25hCollecting pydantic!=1.7,!=1.7.1,!=1.7.2,!=1.7.3,!=1.8,!=1.8.1,<2.0.0,>=1.6.2\n",
      "  Downloading pydantic-1.10.2-cp38-cp38-manylinux_2_17_x86_64.manylinux2014_x86_64.whl (13.6 MB)\n",
      "\u001b[2K     \u001b[90m━━━━━━━━━━━━━━━━━━━━━━━━━━━━━━━━━━━━━━━━\u001b[0m \u001b[32m13.6/13.6 MB\u001b[0m \u001b[31m5.7 MB/s\u001b[0m eta \u001b[36m0:00:00\u001b[0m00:01\u001b[0m00:01\u001b[0m\n",
      "\u001b[?25hRequirement already satisfied: anyio<5,>=3.4.0 in /opt/conda/lib/python3.8/site-packages (from starlette==0.22.0->fastapi) (3.6.1)\n",
      "Requirement already satisfied: typing-extensions>=3.10.0 in /opt/conda/lib/python3.8/site-packages (from starlette==0.22.0->fastapi) (4.4.0)\n",
      "Requirement already satisfied: idna>=2.8 in /opt/conda/lib/python3.8/site-packages (from anyio<5,>=3.4.0->starlette==0.22.0->fastapi) (3.4)\n",
      "Requirement already satisfied: sniffio>=1.1 in /opt/conda/lib/python3.8/site-packages (from anyio<5,>=3.4.0->starlette==0.22.0->fastapi) (1.3.0)\n",
      "Installing collected packages: pydantic, starlette, fastapi\n",
      "Successfully installed fastapi-0.88.0 pydantic-1.10.2 starlette-0.22.0\n",
      "/bin/bash: line 1: starlette: command not found\n"
     ]
    }
   ],
   "source": [
    "# These following steps are to test the main.py code here first - then once it is working\n",
    "# it can then be saved into api/app/main.py & deployed as an API\n",
    "!pip install fastapi\n",
    "!starlette"
   ]
  },
  {
   "cell_type": "code",
   "execution_count": 184,
   "id": "78820747-0898-4c8f-b30a-ec8f6bd5270c",
   "metadata": {},
   "outputs": [
    {
     "data": {
      "text/plain": [
       "{'American Adjunct Lager'}"
      ]
     },
     "execution_count": 184,
     "metadata": {},
     "output_type": "execute_result"
    }
   ],
   "source": [
    "# load your trained model from models folder and save it into a variable called gmm_pipe\n",
    "from fastapi import FastAPI\n",
    "from starlette.responses import JSONResponse\n",
    "# from joblib import load\n",
    "import pandas as pd\n",
    "import numpy as np\n",
    "\n",
    "#Read the lists of brewery names and beer_style to convert them into number/index\n",
    "brew_name = pd.read_csv('../api/app/data/brewery_name.csv')   \n",
    "beer_style = pd.read_csv('../api/app/data/beer_style.csv') \n",
    "\n",
    "pmc_bp = torch.load(\"../api/app/models/beer_prediction.pt\")\n",
    "\n",
    "\n",
    "def format_features(brew_index, review_aroma, review_appearance, review_palate, review_taste, beer_abv):\n",
    "    # convert brewery name into numeric index\n",
    "    return {\n",
    "        'brewery_name': [brew_index],\n",
    "        'review_aroma': [review_aroma],\n",
    "        'review_appearance': [review_appearance],\n",
    "        'review_palate': [review_palate],\n",
    "        'review_taste': [review_taste],\n",
    "        'beer_abv': [beer_abv]\n",
    "    }\n",
    "\n",
    "def predict(brewery_name, review_aroma, review_appearance, review_palate, review_taste, beer_abv):\n",
    "    # convert csv dataframe into series & get the index of the brewery_name\n",
    "    brew_index = list(brew_name['0'].squeeze())\n",
    "    brew_index = brew_index.index(brewery_name)\n",
    "    # convert the features into a dict dataset\n",
    "    features = format_features(brew_index, review_aroma, review_appearance, review_palate, review_taste, beer_abv)\n",
    "    obs = pd.DataFrame(features)\n",
    "    # convert observations to Tensor\n",
    "    obs_dataset = torch.Tensor(np.array(obs))\n",
    "    # Make predictions\n",
    "    with torch.no_grad():\n",
    "         output = pmc_bp(obs_dataset) \n",
    "    # convert output tensor to numpy - use astype to convert to integer\n",
    "    output = torch.argmax(output).numpy().astype(int) \n",
    "    # final output\n",
    "    return {beer_style.squeeze()[output]}  \n",
    "\n",
    "\"\"\"brewery names for testing\n",
    "'Boston Beer Company (Samuel Adams)'\n",
    "'Dogfish Head Brewery'\n",
    "'Stone Brewing Co.'\n",
    "'Sierra Nevada Brewing Co.'\n",
    "'Bell's Brewery, Inc.'\n",
    "'Testing Breweries'\n",
    "\"\"\"\n",
    "\n",
    "brewery_name='Pyramid Breweries, Inc.'\n",
    "review_aroma=5\n",
    "review_appearance=5\n",
    "review_palate=5\n",
    "review_taste=4\n",
    "beer_abv=5\n",
    "\n",
    "pred_out = predict(brewery_name, review_aroma, review_appearance, review_palate, review_taste, beer_abv)\n",
    "pred_out"
   ]
  },
  {
   "cell_type": "code",
   "execution_count": 191,
   "id": "a39847af-1ad9-4ceb-964e-dae8a8024502",
   "metadata": {},
   "outputs": [
    {
     "data": {
      "text/plain": [
       "{'Predicted beer style is =>': 'Saison / Farmhouse Ale'}"
      ]
     },
     "execution_count": 191,
     "metadata": {},
     "output_type": "execute_result"
    }
   ],
   "source": [
    "#Test main.py operation\n",
    "from api.app import main\n",
    "\n",
    "\"\"\"brewery names for testing\n",
    "'Boston Beer Company (Samuel Adams)'\n",
    "'Dogfish Head Brewery'\n",
    "'Stone Brewing Co.'\n",
    "'Sierra Nevada Brewing Co.'\n",
    "'Bell's Brewery, Inc.'\n",
    "'Testing Breweries'\n",
    "\"\"\"\n",
    "\n",
    "brewery_name='Boston Beer Company (Samuel Adams)'\n",
    "review_aroma=0\n",
    "review_appearance=5\n",
    "review_palate=0\n",
    "review_taste=0\n",
    "beer_abv=5\n",
    "\n",
    "pred_out = main.predict(brewery_name, review_aroma, review_appearance, review_palate, review_taste, beer_abv)\n",
    "pred_out"
   ]
  },
  {
   "cell_type": "code",
   "execution_count": 178,
   "id": "631d70eb-7bbc-4674-86da-1bbe94129871",
   "metadata": {},
   "outputs": [
    {
     "ename": "AttributeError",
     "evalue": "module 'api.app.main' has no attribute 'multi_predict'",
     "output_type": "error",
     "traceback": [
      "\u001b[0;31m---------------------------------------------------------------------------\u001b[0m",
      "\u001b[0;31mAttributeError\u001b[0m                            Traceback (most recent call last)",
      "Cell \u001b[0;32mIn [178], line 21\u001b[0m\n\u001b[1;32m     18\u001b[0m review_taste\u001b[38;5;241m=\u001b[39m\u001b[38;5;241m0\u001b[39m\n\u001b[1;32m     19\u001b[0m beer_abv\u001b[38;5;241m=\u001b[39m\u001b[38;5;241m5\u001b[39m\n\u001b[0;32m---> 21\u001b[0m pred_out \u001b[38;5;241m=\u001b[39m \u001b[43mmain\u001b[49m\u001b[38;5;241;43m.\u001b[39;49m\u001b[43mmulti_predict\u001b[49m(brewery_name, review_aroma, review_appearance, review_palate, review_taste, beer_abv)\n\u001b[1;32m     22\u001b[0m pred_out\n",
      "\u001b[0;31mAttributeError\u001b[0m: module 'api.app.main' has no attribute 'multi_predict'"
     ]
    }
   ],
   "source": [
    "#Test main.py operation\n",
    "sys.path.append('/home/jovyan/work/')\n",
    "from api.app import main\n",
    "\n",
    "\"\"\"brewery names for testing\n",
    "'Boston Beer Company (Samuel Adams)'\n",
    "'Dogfish Head Brewery'\n",
    "'Stone Brewing Co.'\n",
    "'Sierra Nevada Brewing Co.'\n",
    "'Bell's Brewery, Inc.'\n",
    "'Testing Breweries'\n",
    "\"\"\"\n",
    "\n",
    "brewery_name='Boston Beer Company (Samuel Adams)'\n",
    "review_aroma=5\n",
    "review_appearance=5\n",
    "review_palate=0\n",
    "review_taste=0\n",
    "beer_abv=5\n",
    "\n",
    "pred_out = main.multi_predict(brewery_name, review_aroma, review_appearance, review_palate, review_taste, beer_abv)\n",
    "pred_out"
   ]
  },
  {
   "cell_type": "markdown",
   "id": "a52da119-696b-4c80-b6c3-cfbffabf4bee",
   "metadata": {},
   "source": [
    "**Move to the directory \"api\", which contains \"Dockerfile\", \"requirements.txt\" and \"app\" folder**\n",
    "\n",
    "cd api"
   ]
  },
  {
   "cell_type": "markdown",
   "id": "cb74a35a-b07a-455b-a1a2-179dde902055",
   "metadata": {},
   "source": [
    "**Build the image from the Dockerfile**\n",
    "\n",
    "docker build -t pmc-fastapi:latest ."
   ]
  },
  {
   "cell_type": "markdown",
   "id": "09c3d3c7-975d-4937-85d8-9f57ee1089c8",
   "metadata": {},
   "source": [
    "**Run the built image with port 8080 mapped to 80**\n",
    "\n",
    "docker run -dit --rm --name pmc-fastapi -p 8080:80 pmc-fastapi:latest"
   ]
  },
  {
   "cell_type": "markdown",
   "id": "3633a9fc-5f79-47a9-8850-1020d3e4068c",
   "metadata": {},
   "source": [
    "**Log of docker**\n",
    "\n",
    "docker logs --tail 50 pmc-fastapi"
   ]
  },
  {
   "cell_type": "markdown",
   "id": "27f05d12-7394-435c-9f38-da6448935133",
   "metadata": {},
   "source": [
    "**Open a browser and navigate through:**\n",
    "\n",
    "http://localhost:8080\n",
    "\n",
    "http://localhost:8080/health\n",
    "\n",
    "\n",
    "http://localhost:8080/docs"
   ]
  },
  {
   "cell_type": "markdown",
   "id": "6e4fa436-d77b-4dd7-abac-627281473c03",
   "metadata": {},
   "source": [
    "# Deploy API to Heroku"
   ]
  },
  {
   "cell_type": "markdown",
   "id": "2322d975-0bfd-4f4a-ae17-0c8e5dc3f1e3",
   "metadata": {},
   "source": [
    "\n",
    "**Move to the Heroku directory (need to setup environmental variable later)**\n",
    "\n",
    "CD \"C:\\Program Files\\heroku\\client\\bin\"\n",
    "\n",
    "**Login to Heroku**\n",
    "\n",
    ".\\heroku login --interactive\n",
    "\n",
    "**Login info**\n",
    "\n",
    "--> Email: stygrh.x@gmail.com  \n",
    "--> Password: \n",
    "\n",
    "\n",
    "**Create App on Heroku**\n",
    "\n",
    ".\\heroku create\n",
    "\n",
    "\n",
    "--> App name: fathomless-eyrie-25793\n",
    "\n",
    "\n",
    "**Create a file of \"heroku.yaml\" in \"../api/\" with the following content**\n",
    "\n",
    "build:  \n",
    "&nbsp;&nbsp;  docker:  \n",
    "&nbsp;&nbsp;&nbsp;&nbsp;    web: Dockerfile  \n",
    "\n",
    "**Coonect my heroku to git repo**\n",
    "\n",
    ".\\heroku git:remote -a fathomless-eyrie-25793\n"
   ]
  },
  {
   "cell_type": "markdown",
   "id": "76130c35-1d27-4ed8-9b38-d4aeb43a90ac",
   "metadata": {},
   "source": [
    "**Connecting with my github**\n",
    "\n",
    "#Clone existing remote repo to my local\n",
    "git clone git@github.com:hitoshi0531/beer-prediction.git\n",
    "\n",
    "#or Link my local repo \"at1_g4\" with github\n",
    "git remote add origin git@github.com:hitoshi0531/beer-prediction.git\n",
    "\n",
    "#Create a new branch to work on the assignement for myself\n",
    "git checkout -b hitoshi_work\n",
    "\n",
    "#Preventing push to master branch   \n",
    "git config branch.master.pushRemote no_push\n",
    "\n",
    "#Before git push, always update my local master\n",
    "#Checkout to my local master branch\n",
    "git checkout master\n",
    "\n",
    "#do [pull] or [fetch & merge]\n",
    "#Pull recent changes from remote master to local master\n",
    "git pull origin master\n",
    "\n",
    "#Get latest info from remote\n",
    "git fetch\n",
    "\n",
    "#Merge any changes from local master\n",
    "git merge master\n",
    "\n",
    "\n",
    "#Checkout my branch\n",
    "git checkout hitoshi_work\n",
    "\n",
    "\n",
    "#Confirm current status\n",
    "git status\n",
    "\n",
    "#Add my changes to git staging area\n",
    "git add .\n",
    "\n",
    "#Create the snapshot of my repository with a message\n",
    "git commit -m \"message\"\n",
    "\n",
    "#Push the current branch and set the remote as upstream\n",
    "git push --set-upstream origin hitoshi_work"
   ]
  }
 ],
 "metadata": {
  "kernelspec": {
   "display_name": "Python 3 (ipykernel)",
   "language": "python",
   "name": "python3"
  },
  "language_info": {
   "codemirror_mode": {
    "name": "ipython",
    "version": 3
   },
   "file_extension": ".py",
   "mimetype": "text/x-python",
   "name": "python",
   "nbconvert_exporter": "python",
   "pygments_lexer": "ipython3",
   "version": "3.8.13"
  }
 },
 "nbformat": 4,
 "nbformat_minor": 5
}
